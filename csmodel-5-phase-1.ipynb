{
 "cells": [
  {
   "cell_type": "markdown",
   "metadata": {},
   "source": [
    "# Dataset Description\n",
    "The following dataset presents aviation related incidents since 1908 until 2009. It consists of information of over 5,000 airplane crashes around the world. Analyizing similar data is important for the advancement of aviation safety. It contains information such as the time and date of the incident, where it happened, how many people were involved, the type of plane and its operator, and much more.\n",
    "\n",
    "The dataset was obtained from the Data Society. ## Add methodology\n",
    "\n",
    "### Rows:\n",
    "- Each row represents an individual record of an incident involving airplanes since 1908 until 2009.\n",
    "\n",
    "### Columns:\n",
    "- **index**: index of the row\n",
    "- **Date**: date of the incident\n",
    "- **Time**: time of the incident\n",
    "- **Location**: location of the incident\n",
    "- **Operator**: operator of the aircraft\n",
    "- **Flight #**: flight number of the aircraft\n",
    "- **Route**: route of the aircraft\n",
    "- **Type**: type of aircraft\n",
    "- **Registration**: registration of the aircraft\n",
    "- **cn/ln**: construction number/serial number of the aircraft\n",
    "- **Aboard**: number people on board the aircraft\n",
    "- **Fatalities**: fatalities in the incident\n",
    "- **Ground**: number of the people on the ground killed\n",
    "- **Summary**: summary of the incident"
   ]
  },
  {
   "cell_type": "code",
   "execution_count": 52,
   "metadata": {
    "_cell_guid": "b1076dfc-b9ad-4769-8c92-a6c4dae69d19",
    "_uuid": "8f2839f25d086af736a60e9eeb907d3b93b6e0e5",
    "tags": []
   },
   "outputs": [],
   "source": [
    "#Import Libraries\n",
    "import numpy as np # linear algebra\n",
    "import pandas as pd # data processing\n",
    "import matplotlib.pyplot as plt\n",
    "import datetime\n",
    "from scipy.stats import chi2_contingency"
   ]
  },
  {
   "cell_type": "code",
   "execution_count": 26,
   "metadata": {},
   "outputs": [
    {
     "data": {
      "text/html": [
       "<div>\n",
       "<style scoped>\n",
       "    .dataframe tbody tr th:only-of-type {\n",
       "        vertical-align: middle;\n",
       "    }\n",
       "\n",
       "    .dataframe tbody tr th {\n",
       "        vertical-align: top;\n",
       "    }\n",
       "\n",
       "    .dataframe thead th {\n",
       "        text-align: right;\n",
       "    }\n",
       "</style>\n",
       "<table border=\"1\" class=\"dataframe\">\n",
       "  <thead>\n",
       "    <tr style=\"text-align: right;\">\n",
       "      <th></th>\n",
       "      <th>index</th>\n",
       "      <th>Date</th>\n",
       "      <th>Time</th>\n",
       "      <th>Location</th>\n",
       "      <th>Operator</th>\n",
       "      <th>Flight #</th>\n",
       "      <th>Route</th>\n",
       "      <th>Type</th>\n",
       "      <th>Registration</th>\n",
       "      <th>cn/In</th>\n",
       "      <th>Aboard</th>\n",
       "      <th>Fatalities</th>\n",
       "      <th>Ground</th>\n",
       "      <th>Summary</th>\n",
       "    </tr>\n",
       "  </thead>\n",
       "  <tbody>\n",
       "    <tr>\n",
       "      <th>0</th>\n",
       "      <td>0</td>\n",
       "      <td>09/17/1908</td>\n",
       "      <td>17:18</td>\n",
       "      <td>Fort Myer, Virginia</td>\n",
       "      <td>Military - U.S. Army</td>\n",
       "      <td>NaN</td>\n",
       "      <td>Demonstration</td>\n",
       "      <td>Wright Flyer III</td>\n",
       "      <td>NaN</td>\n",
       "      <td>1</td>\n",
       "      <td>2.0</td>\n",
       "      <td>1.0</td>\n",
       "      <td>0.0</td>\n",
       "      <td>During a demonstration flight, a U.S. Army fly...</td>\n",
       "    </tr>\n",
       "    <tr>\n",
       "      <th>1</th>\n",
       "      <td>1</td>\n",
       "      <td>07/12/1912</td>\n",
       "      <td>06:30</td>\n",
       "      <td>AtlantiCity, New Jersey</td>\n",
       "      <td>Military - U.S. Navy</td>\n",
       "      <td>NaN</td>\n",
       "      <td>Test flight</td>\n",
       "      <td>Dirigible</td>\n",
       "      <td>NaN</td>\n",
       "      <td>NaN</td>\n",
       "      <td>5.0</td>\n",
       "      <td>5.0</td>\n",
       "      <td>0.0</td>\n",
       "      <td>First U.S. dirigible Akron exploded just offsh...</td>\n",
       "    </tr>\n",
       "    <tr>\n",
       "      <th>2</th>\n",
       "      <td>2</td>\n",
       "      <td>08/06/1913</td>\n",
       "      <td>NaN</td>\n",
       "      <td>Victoria, British Columbia, Canada</td>\n",
       "      <td>Private</td>\n",
       "      <td>-</td>\n",
       "      <td>NaN</td>\n",
       "      <td>Curtiss seaplane</td>\n",
       "      <td>NaN</td>\n",
       "      <td>NaN</td>\n",
       "      <td>1.0</td>\n",
       "      <td>1.0</td>\n",
       "      <td>0.0</td>\n",
       "      <td>The first fatal airplane accident in Canada oc...</td>\n",
       "    </tr>\n",
       "    <tr>\n",
       "      <th>3</th>\n",
       "      <td>3</td>\n",
       "      <td>09/09/1913</td>\n",
       "      <td>18:30</td>\n",
       "      <td>Over the North Sea</td>\n",
       "      <td>Military - German Navy</td>\n",
       "      <td>NaN</td>\n",
       "      <td>NaN</td>\n",
       "      <td>Zeppelin L-1 (airship)</td>\n",
       "      <td>NaN</td>\n",
       "      <td>NaN</td>\n",
       "      <td>20.0</td>\n",
       "      <td>14.0</td>\n",
       "      <td>0.0</td>\n",
       "      <td>The airship flew into a thunderstorm and encou...</td>\n",
       "    </tr>\n",
       "    <tr>\n",
       "      <th>4</th>\n",
       "      <td>4</td>\n",
       "      <td>10/17/1913</td>\n",
       "      <td>10:30</td>\n",
       "      <td>Near Johannisthal, Germany</td>\n",
       "      <td>Military - German Navy</td>\n",
       "      <td>NaN</td>\n",
       "      <td>NaN</td>\n",
       "      <td>Zeppelin L-2 (airship)</td>\n",
       "      <td>NaN</td>\n",
       "      <td>NaN</td>\n",
       "      <td>30.0</td>\n",
       "      <td>30.0</td>\n",
       "      <td>0.0</td>\n",
       "      <td>Hydrogen gas which was being vented was sucked...</td>\n",
       "    </tr>\n",
       "  </tbody>\n",
       "</table>\n",
       "</div>"
      ],
      "text/plain": [
       "   index        Date   Time                            Location  \\\n",
       "0      0  09/17/1908  17:18                 Fort Myer, Virginia   \n",
       "1      1  07/12/1912  06:30             AtlantiCity, New Jersey   \n",
       "2      2  08/06/1913    NaN  Victoria, British Columbia, Canada   \n",
       "3      3  09/09/1913  18:30                  Over the North Sea   \n",
       "4      4  10/17/1913  10:30          Near Johannisthal, Germany   \n",
       "\n",
       "                 Operator Flight #          Route                    Type  \\\n",
       "0    Military - U.S. Army      NaN  Demonstration        Wright Flyer III   \n",
       "1    Military - U.S. Navy      NaN    Test flight               Dirigible   \n",
       "2                 Private        -            NaN        Curtiss seaplane   \n",
       "3  Military - German Navy      NaN            NaN  Zeppelin L-1 (airship)   \n",
       "4  Military - German Navy      NaN            NaN  Zeppelin L-2 (airship)   \n",
       "\n",
       "  Registration cn/In  Aboard  Fatalities  Ground  \\\n",
       "0          NaN     1     2.0         1.0     0.0   \n",
       "1          NaN   NaN     5.0         5.0     0.0   \n",
       "2          NaN   NaN     1.0         1.0     0.0   \n",
       "3          NaN   NaN    20.0        14.0     0.0   \n",
       "4          NaN   NaN    30.0        30.0     0.0   \n",
       "\n",
       "                                             Summary  \n",
       "0  During a demonstration flight, a U.S. Army fly...  \n",
       "1  First U.S. dirigible Akron exploded just offsh...  \n",
       "2  The first fatal airplane accident in Canada oc...  \n",
       "3  The airship flew into a thunderstorm and encou...  \n",
       "4  Hydrogen gas which was being vented was sucked...  "
      ]
     },
     "execution_count": 26,
     "metadata": {},
     "output_type": "execute_result"
    }
   ],
   "source": [
    "airplane_df = pd.read_csv('Airplane_Crashes_and_Fatalities_Since_1908.csv')\n",
    "airplane_df.head()"
   ]
  },
  {
   "cell_type": "code",
   "execution_count": 27,
   "metadata": {},
   "outputs": [
    {
     "data": {
      "text/plain": [
       "Training                      81\n",
       "Sightseeing                   29\n",
       "Test flight                   17\n",
       "Test                           6\n",
       "Sao Paulo - Rio de Janeiro     5\n",
       "                              ..\n",
       "Manila - Lapu Lapu             1\n",
       "Saint Denis - Paris            1\n",
       "Cork - London                  1\n",
       "Peoria, IL - St. Louis, MO     1\n",
       "Mechuka for Jorhat             1\n",
       "Name: Route, Length: 3244, dtype: int64"
      ]
     },
     "execution_count": 27,
     "metadata": {},
     "output_type": "execute_result"
    }
   ],
   "source": [
    "airplane_df['Route'].value_counts()"
   ]
  },
  {
   "cell_type": "code",
   "execution_count": 28,
   "metadata": {},
   "outputs": [],
   "source": [
    "airplane2_df=airplane_df.copy()\n",
    "airplane2_df['Route']=airplane2_df['Route'].replace({\"Test\":\"Test flight\"})"
   ]
  },
  {
   "cell_type": "code",
   "execution_count": 29,
   "metadata": {},
   "outputs": [
    {
     "data": {
      "text/plain": [
       "Training                      81\n",
       "Sightseeing                   29\n",
       "Test flight                   23\n",
       "Sao Paulo - Rio de Janeiro     5\n",
       "Bogota - Barranquilla          4\n",
       "                              ..\n",
       "Manila - Lapu Lapu             1\n",
       "Saint Denis - Paris            1\n",
       "Cork - London                  1\n",
       "Peoria, IL - St. Louis, MO     1\n",
       "Mechuka for Jorhat             1\n",
       "Name: Route, Length: 3243, dtype: int64"
      ]
     },
     "execution_count": 29,
     "metadata": {},
     "output_type": "execute_result"
    }
   ],
   "source": [
    "airplane2_df['Route'].value_counts()"
   ]
  },
  {
   "cell_type": "code",
   "execution_count": 30,
   "metadata": {},
   "outputs": [
    {
     "data": {
      "text/plain": [
       "array(['Demonstration', 'Test flight', nan, ..., 'Rio de Janeiro - Paris',\n",
       "       'Lourdes de BlanSablon - Port Hope Simpson', 'Mechuka for Jorhat'],\n",
       "      dtype=object)"
      ]
     },
     "execution_count": 30,
     "metadata": {},
     "output_type": "execute_result"
    }
   ],
   "source": [
    "airplane2_df['Route'].unique()"
   ]
  },
  {
   "cell_type": "code",
   "execution_count": 31,
   "metadata": {},
   "outputs": [
    {
     "data": {
      "text/plain": [
       "Training                      81\n",
       "Sightseeing                   29\n",
       "Test flight                   23\n",
       "Sao Paulo - Rio de Janeiro     5\n",
       "Bogota - Barranquilla          4\n",
       "                              ..\n",
       "Manila - Lapu Lapu             1\n",
       "Saint Denis - Paris            1\n",
       "Cork - London                  1\n",
       "Peoria, IL - St. Louis, MO     1\n",
       "Mechuka for Jorhat             1\n",
       "Name: Route, Length: 3243, dtype: int64"
      ]
     },
     "execution_count": 31,
     "metadata": {},
     "output_type": "execute_result"
    }
   ],
   "source": [
    "airplane_df=airplane2_df\n",
    "airplane_df['Route'].value_counts()"
   ]
  },
  {
   "cell_type": "markdown",
   "metadata": {},
   "source": [
    "**1. How many aircraft related fatalities are there per year starting from 1908 to 2009?**"
   ]
  },
  {
   "cell_type": "code",
   "execution_count": 32,
   "metadata": {},
   "outputs": [
    {
     "data": {
      "text/plain": [
       "Year\n",
       "1972    2937\n",
       "1985    2670\n",
       "1973    2485\n",
       "1996    2386\n",
       "1974    2318\n",
       "        ... \n",
       "1920      24\n",
       "1924      18\n",
       "1912       5\n",
       "1919       5\n",
       "1908       1\n",
       "Name: Fatalities, Length: 98, dtype: int32"
      ]
     },
     "execution_count": 32,
     "metadata": {},
     "output_type": "execute_result"
    }
   ],
   "source": [
    "year_list = []\n",
    "airplane_df['Date'] = pd.to_datetime(airplane_df['Date']) # convert to datetime\n",
    "for i in range(len(airplane_df.index)):\n",
    "    year_list.append(airplane_df.iloc[i]['Date'].year)\n",
    "\n",
    "airplane_df2 = airplane_df.assign(Year=year_list)\n",
    "\n",
    "airplane_df2.groupby(['Year'])['Fatalities'].sum().sort_values(ascending=False).astype(int)\n"
   ]
  },
  {
   "cell_type": "markdown",
   "metadata": {},
   "source": [
    "It can be seen here that the year with the highest number of fatalities is 1972 with 2937 total fatalities recorded and the least number of fatalities was during 1908 with only 1 fatality."
   ]
  },
  {
   "cell_type": "code",
   "execution_count": 33,
   "metadata": {},
   "outputs": [
    {
     "data": {
      "text/plain": [
       "<AxesSubplot:xlabel='Year', ylabel='Fatalities'>"
      ]
     },
     "execution_count": 33,
     "metadata": {},
     "output_type": "execute_result"
    },
    {
     "data": {
      "image/png": "[encoded data removed]",
      "text/plain": [
       "<Figure size 432x288 with 1 Axes>"
      ]
     },
     "metadata": {
      "needs_background": "light"
     },
     "output_type": "display_data"
    }
   ],
   "source": [
    "yearly_fatalities = airplane_df2.groupby(['Year'])['Fatalities'].sum().reset_index()\n",
    "yearly_fatalities.corr()\n",
    "yearly_fatalities.plot.scatter(x='Year', y='Fatalities')"
   ]
  },
  {
   "cell_type": "markdown",
   "metadata": {},
   "source": [
    "This plot was set to see if there is any relationship between the year and the number of fatalities recorded. Based on this, it can be assumed that the number of fatalities increased until the 60's before it started to drop again. It can also be noticed that a drastic drop of the number of fatalities started during the 2000's."
   ]
  },
  {
   "cell_type": "markdown",
   "metadata": {},
   "source": [
    "*b. What is the average fatalities per decade?*"
   ]
  },
  {
   "cell_type": "code",
   "execution_count": 34,
   "metadata": {},
   "outputs": [
    {
     "data": {
      "text/plain": [
       "Decade\n",
       "1900     1.00\n",
       "1910    15.08\n",
       "1920     3.56\n",
       "1930     5.78\n",
       "1940    15.93\n",
       "1950    18.56\n",
       "1960    23.05\n",
       "1970    25.24\n",
       "1980    24.91\n",
       "1990    21.78\n",
       "2000    18.97\n",
       "Name: Fatalities, dtype: float64"
      ]
     },
     "execution_count": 34,
     "metadata": {},
     "output_type": "execute_result"
    }
   ],
   "source": [
    "decade_list = []\n",
    "for i in range(len(airplane_df.index)):\n",
    "    decade = int(np.floor(airplane_df2.iloc[i]['Year']/10)*10) # get decade\n",
    "    decade_list.append(decade)\n",
    "\n",
    "airplane_df2 = airplane_df2.assign(Decade=decade_list)\n",
    "\n",
    "decade_fatalities = airplane_df2.groupby(['Decade'])['Fatalities'].mean()\n",
    "decade_fatalities.round(2)"
   ]
  },
  {
   "cell_type": "markdown",
   "metadata": {},
   "source": [
    "- Is there a relationship between the decade that the crash happened and the number of fatalities?"
   ]
  },
  {
   "cell_type": "code",
   "execution_count": 35,
   "metadata": {},
   "outputs": [
    {
     "data": {
      "text/plain": [
       "<AxesSubplot:xlabel='Decade'>"
      ]
     },
     "execution_count": 35,
     "metadata": {},
     "output_type": "execute_result"
    },
    {
     "data": {
      "image/png": "[encoded data removed]",
      "text/plain": [
       "<Figure size 432x288 with 1 Axes>"
      ]
     },
     "metadata": {
      "needs_background": "light"
     },
     "output_type": "display_data"
    }
   ],
   "source": [
    "decade_fatalities.plot.bar(x='Decade', y='Fatalities')"
   ]
  },
  {
   "cell_type": "markdown",
   "metadata": {},
   "source": [
    "There is a sudden jump of fatalities during the second decade. A possible cause for this is because air transportation has just been discovered, a lot of people were trying to innovate and build new machinery which would unfortunately fail. The number of fatalities drastically increased from the 30's to the 60's before it starts a downward trend. This may be due to the sudden rise in demand of air transportation. It was only during the recent years where the development for air transportation safety has picked up pace."
   ]
  },
  {
   "cell_type": "markdown",
   "metadata": {},
   "source": [
    "**2. What is the country with the most airplane crashes?**"
   ]
  },
  {
   "cell_type": "code",
   "execution_count": 36,
   "metadata": {},
   "outputs": [
    {
     "data": {
      "image/png": "[encoded data removed]",
      "text/plain": [
       "<Figure size 504x504 with 1 Axes>"
      ]
     },
     "metadata": {
      "needs_background": "light"
     },
     "output_type": "display_data"
    }
   ],
   "source": [
    "df = airplane_df.copy()\n",
    "\n",
    "US_states = [\"Alaska\", \"Alabama\", \"Arkansas\", \"American Samoa\", \"Arizona\", \"California\", \"Colorado\", \"Connecticut\", \"District \", \"of Columbia\", \"Delaware\", \"Florida\", \"Georgia\", \"Guam\", \"Hawaii\", \"Iowa\", \"Idaho\", \"Illinois\", \"Indiana\", \"Kansas\", \"Kentucky\", \"Louisiana\", \"Massachusetts\", \"Maryland\", \"Maine\", \"Michigan\", \"Minnesota\", \"Missouri\", \"Mississippi\", \"Montana\", \"North Carolina\", \"North Dakota\", \"Nebraska\", \"New Hampshire\", \"New Jersey\", \"New Mexico\", \"Nevada\", \"New York\", \"Ohio\", \"Oklahoma\", \"Oregon\", \"Pennsylvania\", \"Puerto Rico\", \"Rhode Island\", \"South Carolina\", \"South Dakota\", \"Tennessee\", \"Texas\", \"Utah\", \"Virginia\", \"Virgin Islands\", \"Vermont\", \"Washington\", \"Wisconsin\", \"West Virginia\", \"Wyoming\"]\n",
    "countries = ['Afghanistan', 'Aland Islands', 'Albania', 'Algeria', 'American Samoa', 'Andorra', 'Angola', 'Anguilla', 'Antarctica', 'Antigua and Barbuda', 'Argentina', 'Armenia', 'Aruba', 'Australia', 'Austria', 'Azerbaijan', 'Bahamas', 'Bahrain', 'Bangladesh', 'Barbados', 'Belarus', 'Belgium', 'Belize', 'Benin', 'Bermuda', 'Bhutan', 'Bolivia, Plurinational State of', 'Bonaire, Sint Eustatius and Saba', 'Bosnia and Herzegovina', 'Botswana', 'Bouvet Island', 'Brazil', 'British Indian Ocean Territory', 'Brunei Darussalam', 'Bulgaria', 'Burkina Faso', 'Burundi', 'Cambodia', 'Cameroon', 'Canada', 'Cape Verde', 'Cayman Islands', 'Central African Republic', 'Chad', 'Chile', 'China', 'Christmas Island', 'Cocos (Keeling) Islands', 'Colombia', 'Comoros', 'Congo', 'Congo, The Democratic Republic of the', 'Cook Islands', 'Costa Rica', \"Côte d'Ivoire\", 'Croatia', 'Cuba', 'Curaçao', 'Cyprus', 'Czech Republic', 'Denmark', 'Djibouti', 'Dominica', 'Dominican Republic', 'Ecuador', 'Egypt', 'El Salvador', 'Equatorial Guinea', 'Eritrea', 'Estonia', 'Ethiopia', 'Falkland Islands (Malvinas)', 'Faroe Islands', 'Fiji', 'Finland', 'France', 'French Guiana', 'French Polynesia', 'French Southern Territories', 'Gabon', 'Gambia', 'Georgia', 'Germany', 'Ghana', 'Gibraltar', 'Greece', 'Greenland', 'Grenada', 'Guadeloupe', 'Guam', 'Guatemala', 'Guernsey', 'Guinea', 'Guinea-Bissau', 'Guyana', 'Haiti', 'Heard Island and McDonald Islands', 'Holy See (Vatican City State)', 'Honduras', 'Hong Kong', 'Hungary', 'Iceland', 'India', 'Indonesia', 'Iran, Islamic Republic of', 'Iraq', 'Ireland', 'Isle of Man', 'Israel', 'Italy', 'Jamaica', 'Japan', 'Jersey', 'Jordan', 'Kazakhstan', 'Kenya', 'Kiribati', \"Korea, Democratic People's Republic of\", 'Korea, Republic of', 'Kuwait', 'Kyrgyzstan', \"Lao People's Democratic Republic\", 'Latvia', 'Lebanon', 'Lesotho', 'Liberia', 'Libya', 'Liechtenstein', 'Lithuania', 'Luxembourg', 'Macao', 'Macedonia, Republic of', 'Madagascar', 'Malawi', 'Malaysia', 'Maldives', 'Mali', 'Malta', 'Marshall Islands', 'Martinique', 'Mauritania', 'Mauritius', 'Mayotte', 'Mexico', 'Micronesia, Federated States of', 'Moldova, Republic of', 'Monaco', 'Mongolia', 'Montenegro', 'Montserrat', 'Morocco', 'Mozambique', 'Myanmar', 'Namibia', 'Nauru', 'Nepal', 'Netherlands', 'New Caledonia', 'New Zealand', 'Nicaragua', 'Niger', 'Nigeria', 'Niue', 'Norfolk Island', 'Northern Mariana Islands', 'Norway', 'Oman', 'Pakistan', 'Palau', 'Palestinian Territory, Occupied', 'Panama', 'Papua New Guinea', 'Paraguay', 'Peru', 'Philippines', 'Pitcairn', 'Poland', 'Portugal', 'Puerto Rico', 'Qatar', 'Réunion', 'Romania', 'Russian Federation', 'Rwanda', 'Saint Barthélemy', 'Saint Helena, Ascension and Tristan da Cunha', 'Saint Kitts and Nevis', 'Saint Lucia', 'Saint Martin (French part)', 'Saint Pierre and Miquelon', 'Saint Vincent and the Grenadines', 'Samoa', 'San Marino', 'Sao Tome and Principe', 'Saudi Arabia', 'Senegal', 'Serbia', 'Seychelles', 'Sierra Leone', 'Singapore', 'Sint Maarten (Dutch part)', 'Slovakia', 'Slovenia', 'Solomon Islands', 'Somalia', 'South Africa', 'South Georgia and the South Sandwich Islands', 'Spain', 'Sri Lanka', 'Sudan', 'Suriname', 'South Sudan', 'Svalbard and Jan Mayen', 'Swaziland', 'Sweden', 'Switzerland', 'Syrian Arab Republic', 'Taiwan, Province of China', 'Tajikistan', 'Tanzania, United Republic of', 'Thailand', 'Timor-Leste', 'Togo', 'Tokelau', 'Tonga', 'Trinidad and Tobago', 'Tunisia', 'Turkey', 'Turkmenistan', 'Turks and Caicos Islands', 'Tuvalu', 'Uganda', 'Ukraine', 'United Arab Emirates', 'United Kingdom', 'United States', 'Uruguay', 'Uzbekistan', 'Vanuatu', 'Venezuela, Bolivarian Republic of', 'Viet Nam', 'Virgin Islands, British', 'Virgin Islands, U.S.', 'Wallis and Futuna', 'Yemen', 'Zambia', 'Zimbabwe']\n",
    "\n",
    "# Cleaning\n",
    "df = df[df[\"Fatalities\"].notna()]\n",
    "df = df[df[\"Type\"].notna()]\n",
    "df = df[df[\"Location\"].notna()]\n",
    "df = df.reset_index(drop=True)\n",
    "\n",
    "# Get Location Column\n",
    "locations = df['Location'].apply(str)\n",
    "\n",
    "#Get Fatalities Column\n",
    "fatalities = df['Fatalities']\n",
    "\n",
    "for loc in locations:\n",
    "    # Divide string by comma\n",
    "    split = loc.split(',') \n",
    "\n",
    "    # Get Last String and remove any excess spaces\n",
    "    country = split[-1] if split[-1][0] != ' ' else split[-1][1:]\n",
    "\n",
    "    if(loc not in countries):\n",
    "        \n",
    "    # Replace location with the country string\n",
    "        if(country in countries):\n",
    "            df['Location'] = df['Location'].replace(loc, country)\n",
    "\n",
    "    # Replace any US State with the country of United States\n",
    "        elif(country in US_states):\n",
    "            df['Location'] = df['Location'].replace(loc, 'United States')\n",
    "\n",
    "    # Drop rows with uncertain countries\n",
    "        else:\n",
    "            df.drop(df[df['Location'] == loc].index, inplace=True)\n",
    "\n",
    "\n",
    "country_count = df.groupby(['Location'])['Location'].count().reset_index(name='Number of Reports')\n",
    "country_count = country_count.sort_values(by=['Number of Reports'], ascending=False)\n",
    "\n",
    "top_20 = country_count.head(20)\n",
    "\n",
    "fig = plt.figure(figsize=(7,7))\n",
    "plt.barh(top_20['Location'], top_20['Number of Reports'])\n",
    "plt.gca().invert_yaxis()\n",
    "plt.xlabel(\"Total Reports\")\n",
    "plt.ylabel(\"Country\")\n",
    "plt.title(\"Top 20 Countries with the Highest Number of Reported Incidents from 1908 to 2009\")\n",
    "plt.show()"
   ]
  },
  {
   "cell_type": "markdown",
   "metadata": {},
   "source": [
    "After configuring each location to their respective country, each record on the data frame was summed per country. The sum of the top 20 highest total count is shown the by figure above. Amongst all the countries, the United States stands with the highest number of reports, followed by Brazil, Canada, Colombia, and France respectively."
   ]
  },
  {
   "cell_type": "markdown",
   "metadata": {},
   "source": [
    "*b. What is the country with the most aircraft related fatalities*"
   ]
  },
  {
   "cell_type": "code",
   "execution_count": 37,
   "metadata": {},
   "outputs": [
    {
     "data": {
      "image/png": "[encoded data removed]",
      "text/plain": [
       "<Figure size 504x504 with 1 Axes>"
      ]
     },
     "metadata": {
      "needs_background": "light"
     },
     "output_type": "display_data"
    }
   ],
   "source": [
    "country_fatalities = df.groupby(['Location'])['Fatalities'].sum().reset_index(name='Total Fatalities')\n",
    "country_fatalities = country_fatalities.sort_values(by=['Total Fatalities'], ascending=False)\n",
    "top_20 = country_fatalities.head(20)\n",
    "\n",
    "fig = plt.figure(figsize=(7,7))\n",
    "plt.barh(top_20['Location'], top_20['Total Fatalities'])\n",
    "plt.gca().invert_yaxis()\n",
    "plt.xlabel(\"Fatalities\")\n",
    "plt.ylabel(\"Country\")\n",
    "plt.title(\"Top 20 Countries' with the highest fatalities from 1908 to 2009\")\n",
    "plt.show()"
   ]
  },
  {
   "cell_type": "markdown",
   "metadata": {},
   "source": [
    "Similar to the previous figure, each record was grouped by their respective country and instead of summing their count, their fatalities were summed. The figure above shows the top 20 countries with the highest number of fatalities. Amongst all the countries, the United States stands with the highest total fatalities, followed by Brazil, Colombia, France, and India respectively."
   ]
  },
  {
   "cell_type": "markdown",
   "metadata": {},
   "source": [
    "**3. What are the common causes of plane crashes?**"
   ]
  },
  {
   "cell_type": "markdown",
   "metadata": {},
   "source": [
    "Text will be analysed, hence it is best to have function to set all values in a column to lower case"
   ]
  },
  {
   "cell_type": "code",
   "execution_count": 38,
   "metadata": {},
   "outputs": [],
   "source": [
    "#code here\n",
    "def to_lower_case(text_series):\n",
    "    return text_series.str.lower()"
   ]
  },
  {
   "cell_type": "code",
   "execution_count": 39,
   "metadata": {},
   "outputs": [],
   "source": [
    "airplane_df3 = airplane_df.copy()"
   ]
  },
  {
   "cell_type": "code",
   "execution_count": 40,
   "metadata": {},
   "outputs": [
    {
     "data": {
      "text/plain": [
       "0       during a demonstration flight, a u.s. army fly...\n",
       "1       first u.s. dirigible akron exploded just offsh...\n",
       "2       the first fatal airplane accident in canada oc...\n",
       "3       the airship flew into a thunderstorm and encou...\n",
       "4       hydrogen gas which was being vented was sucked...\n",
       "                              ...                        \n",
       "5263    while on approach, the military transport cras...\n",
       "5264    the cargo plane crashed while on approach to i...\n",
       "5265    the airbus went missing over the atlantiocean ...\n",
       "5266    the air ambulance crashed into hills while att...\n",
       "5267    the military transport went missing while en r...\n",
       "Name: lower_summary, Length: 5268, dtype: object"
      ]
     },
     "execution_count": 40,
     "metadata": {},
     "output_type": "execute_result"
    }
   ],
   "source": [
    "airplane_df3['lower_summary'] = to_lower_case(airplane_df3['Summary'])\n",
    "airplane_df3['lower_summary']"
   ]
  },
  {
   "cell_type": "markdown",
   "metadata": {},
   "source": [
    "When observing the dataset it is noticeable that there are null values in the Summary Column, we must see if we could just drop the entries that has a null value in the Summary Column"
   ]
  },
  {
   "cell_type": "code",
   "execution_count": 41,
   "metadata": {},
   "outputs": [
    {
     "data": {
      "text/plain": [
       "390"
      ]
     },
     "execution_count": 41,
     "metadata": {},
     "output_type": "execute_result"
    }
   ],
   "source": [
    "airplane_df3['lower_summary'].isna().sum()"
   ]
  },
  {
   "cell_type": "markdown",
   "metadata": {},
   "source": [
    "Since the values is relatively small compared to the size of the data set, it is safe to drop these entries for analysis"
   ]
  },
  {
   "cell_type": "code",
   "execution_count": 42,
   "metadata": {},
   "outputs": [
    {
     "data": {
      "text/html": [
       "<div>\n",
       "<style scoped>\n",
       "    .dataframe tbody tr th:only-of-type {\n",
       "        vertical-align: middle;\n",
       "    }\n",
       "\n",
       "    .dataframe tbody tr th {\n",
       "        vertical-align: top;\n",
       "    }\n",
       "\n",
       "    .dataframe thead th {\n",
       "        text-align: right;\n",
       "    }\n",
       "</style>\n",
       "<table border=\"1\" class=\"dataframe\">\n",
       "  <thead>\n",
       "    <tr style=\"text-align: right;\">\n",
       "      <th></th>\n",
       "      <th>index</th>\n",
       "      <th>Date</th>\n",
       "      <th>Time</th>\n",
       "      <th>Location</th>\n",
       "      <th>Operator</th>\n",
       "      <th>Flight #</th>\n",
       "      <th>Route</th>\n",
       "      <th>Type</th>\n",
       "      <th>Registration</th>\n",
       "      <th>cn/In</th>\n",
       "      <th>Aboard</th>\n",
       "      <th>Fatalities</th>\n",
       "      <th>Ground</th>\n",
       "      <th>Summary</th>\n",
       "      <th>lower_summary</th>\n",
       "    </tr>\n",
       "  </thead>\n",
       "  <tbody>\n",
       "    <tr>\n",
       "      <th>208</th>\n",
       "      <td>208</td>\n",
       "      <td>1930-01-19</td>\n",
       "      <td>18:23</td>\n",
       "      <td>Oceanside, California</td>\n",
       "      <td>Maddux Airlines</td>\n",
       "      <td>7</td>\n",
       "      <td>Aqua Caliente, Mexico - Los Angeles</td>\n",
       "      <td>Ford 5-AT-C Tri Motor</td>\n",
       "      <td>NC9689</td>\n",
       "      <td>5-AT-046</td>\n",
       "      <td>16.0</td>\n",
       "      <td>16.0</td>\n",
       "      <td>0.0</td>\n",
       "      <td>While en route to Los Angeles, the pilot, flyi...</td>\n",
       "      <td>while en route to los angeles, the pilot, flyi...</td>\n",
       "    </tr>\n",
       "    <tr>\n",
       "      <th>236</th>\n",
       "      <td>236</td>\n",
       "      <td>1931-03-31</td>\n",
       "      <td>10:45</td>\n",
       "      <td>Bazaar, Kansas</td>\n",
       "      <td>Trans Continental and Western Air</td>\n",
       "      <td>599</td>\n",
       "      <td>Kansas City - Wichita -  Los Angeles</td>\n",
       "      <td>Fokker F10A Trimotor</td>\n",
       "      <td>NC-999</td>\n",
       "      <td>1063</td>\n",
       "      <td>8.0</td>\n",
       "      <td>8.0</td>\n",
       "      <td>0.0</td>\n",
       "      <td>Shortly after taking off from Kansas City, one...</td>\n",
       "      <td>shortly after taking off from kansas city, one...</td>\n",
       "    </tr>\n",
       "    <tr>\n",
       "      <th>334</th>\n",
       "      <td>334</td>\n",
       "      <td>1934-08-31</td>\n",
       "      <td>23:42</td>\n",
       "      <td>Amazonia, Missouri</td>\n",
       "      <td>Rapid Air Transport</td>\n",
       "      <td>6</td>\n",
       "      <td>Omaha - St. Joseph</td>\n",
       "      <td>Stinson  SM-6000B</td>\n",
       "      <td>NC10809</td>\n",
       "      <td>5004</td>\n",
       "      <td>5.0</td>\n",
       "      <td>5.0</td>\n",
       "      <td>0.0</td>\n",
       "      <td>The plane crashed about 11 miles from St. Jose...</td>\n",
       "      <td>the plane crashed about 11 miles from st. jose...</td>\n",
       "    </tr>\n",
       "    <tr>\n",
       "      <th>354</th>\n",
       "      <td>354</td>\n",
       "      <td>1935-05-06</td>\n",
       "      <td>03:30</td>\n",
       "      <td>Atlanta, Missouri</td>\n",
       "      <td>Trans Continental and Western Air</td>\n",
       "      <td>6</td>\n",
       "      <td>Los Angeles - Albuquerque - Kanasas City -  Wa...</td>\n",
       "      <td>Douglas DC-2-112</td>\n",
       "      <td>NC13785</td>\n",
       "      <td>1295</td>\n",
       "      <td>14.0</td>\n",
       "      <td>5.0</td>\n",
       "      <td>0.0</td>\n",
       "      <td>The plane crashed while en route from Albuquer...</td>\n",
       "      <td>the plane crashed while en route from albuquer...</td>\n",
       "    </tr>\n",
       "    <tr>\n",
       "      <th>365</th>\n",
       "      <td>365</td>\n",
       "      <td>1935-08-14</td>\n",
       "      <td>23:45</td>\n",
       "      <td>Near Gilmer, Texas</td>\n",
       "      <td>Delta Air Lines</td>\n",
       "      <td>4</td>\n",
       "      <td>Dallas -  Atlanta</td>\n",
       "      <td>Stinson Model A</td>\n",
       "      <td>NC14599</td>\n",
       "      <td>9103</td>\n",
       "      <td>4.0</td>\n",
       "      <td>4.0</td>\n",
       "      <td>0.0</td>\n",
       "      <td>Crashed 3 miles south of Gilmer. The outboard ...</td>\n",
       "      <td>crashed 3 miles south of gilmer. the outboard ...</td>\n",
       "    </tr>\n",
       "    <tr>\n",
       "      <th>...</th>\n",
       "      <td>...</td>\n",
       "      <td>...</td>\n",
       "      <td>...</td>\n",
       "      <td>...</td>\n",
       "      <td>...</td>\n",
       "      <td>...</td>\n",
       "      <td>...</td>\n",
       "      <td>...</td>\n",
       "      <td>...</td>\n",
       "      <td>...</td>\n",
       "      <td>...</td>\n",
       "      <td>...</td>\n",
       "      <td>...</td>\n",
       "      <td>...</td>\n",
       "      <td>...</td>\n",
       "    </tr>\n",
       "    <tr>\n",
       "      <th>5248</th>\n",
       "      <td>5248</td>\n",
       "      <td>2009-02-12</td>\n",
       "      <td>22:17</td>\n",
       "      <td>Clarence Center, New York</td>\n",
       "      <td>Continental Connection/Colgan Air</td>\n",
       "      <td>3407</td>\n",
       "      <td>Newark, N.J. - Buffalo, NY</td>\n",
       "      <td>Bombardier DHC-8-402 Q400</td>\n",
       "      <td>N200WQ</td>\n",
       "      <td>4200</td>\n",
       "      <td>49.0</td>\n",
       "      <td>49.0</td>\n",
       "      <td>1.0</td>\n",
       "      <td>The commuter plane crashed while attemptiong t...</td>\n",
       "      <td>the commuter plane crashed while attemptiong t...</td>\n",
       "    </tr>\n",
       "    <tr>\n",
       "      <th>5251</th>\n",
       "      <td>5251</td>\n",
       "      <td>2009-02-25</td>\n",
       "      <td>10:31</td>\n",
       "      <td>Amsterdam, Netherlands</td>\n",
       "      <td>Turkish Airlines</td>\n",
       "      <td>1951</td>\n",
       "      <td>Istanbul, Turkey - Amsterdam, Netherlands</td>\n",
       "      <td>Boeing 737-8F2</td>\n",
       "      <td>TC-JGE</td>\n",
       "      <td>29789/1065</td>\n",
       "      <td>134.0</td>\n",
       "      <td>9.0</td>\n",
       "      <td>0.0</td>\n",
       "      <td>The plane was on final approach to Runway 18R ...</td>\n",
       "      <td>the plane was on final approach to runway 18r ...</td>\n",
       "    </tr>\n",
       "    <tr>\n",
       "      <th>5255</th>\n",
       "      <td>5255</td>\n",
       "      <td>2009-03-23</td>\n",
       "      <td>06:48</td>\n",
       "      <td>Tokyo, Japan</td>\n",
       "      <td>FedEx</td>\n",
       "      <td>80</td>\n",
       "      <td>Guangzhou, China - Tokyo, Japan</td>\n",
       "      <td>McDonnell Douglas MD-11</td>\n",
       "      <td>N526FE</td>\n",
       "      <td>48600/560</td>\n",
       "      <td>2.0</td>\n",
       "      <td>2.0</td>\n",
       "      <td>0.0</td>\n",
       "      <td>The cargo plane crashed and burst into flame a...</td>\n",
       "      <td>the cargo plane crashed and burst into flame a...</td>\n",
       "    </tr>\n",
       "    <tr>\n",
       "      <th>5259</th>\n",
       "      <td>5259</td>\n",
       "      <td>2009-04-17</td>\n",
       "      <td>10:30</td>\n",
       "      <td>Mount Gergaji, Indonesia</td>\n",
       "      <td>Mimika Air</td>\n",
       "      <td>514</td>\n",
       "      <td>Ilaga - Mulia</td>\n",
       "      <td>Pilatus PC-6</td>\n",
       "      <td>PK-LTJ</td>\n",
       "      <td>959</td>\n",
       "      <td>11.0</td>\n",
       "      <td>11.0</td>\n",
       "      <td>0.0</td>\n",
       "      <td>The passenger plane crashed in poor weather in...</td>\n",
       "      <td>the passenger plane crashed in poor weather in...</td>\n",
       "    </tr>\n",
       "    <tr>\n",
       "      <th>5265</th>\n",
       "      <td>5265</td>\n",
       "      <td>2009-06-01</td>\n",
       "      <td>00:15</td>\n",
       "      <td>AtlantiOcean, 570 miles northeast of Natal, Br...</td>\n",
       "      <td>Air France</td>\n",
       "      <td>447</td>\n",
       "      <td>Rio de Janeiro - Paris</td>\n",
       "      <td>Airbus A330-203</td>\n",
       "      <td>F-GZCP</td>\n",
       "      <td>660</td>\n",
       "      <td>228.0</td>\n",
       "      <td>228.0</td>\n",
       "      <td>0.0</td>\n",
       "      <td>The Airbus went missing over the AtlantiOcean ...</td>\n",
       "      <td>the airbus went missing over the atlantiocean ...</td>\n",
       "    </tr>\n",
       "  </tbody>\n",
       "</table>\n",
       "<p>944 rows × 15 columns</p>\n",
       "</div>"
      ],
      "text/plain": [
       "      index       Date   Time  \\\n",
       "208     208 1930-01-19  18:23   \n",
       "236     236 1931-03-31  10:45   \n",
       "334     334 1934-08-31  23:42   \n",
       "354     354 1935-05-06  03:30   \n",
       "365     365 1935-08-14  23:45   \n",
       "...     ...        ...    ...   \n",
       "5248   5248 2009-02-12  22:17   \n",
       "5251   5251 2009-02-25  10:31   \n",
       "5255   5255 2009-03-23  06:48   \n",
       "5259   5259 2009-04-17  10:30   \n",
       "5265   5265 2009-06-01  00:15   \n",
       "\n",
       "                                               Location  \\\n",
       "208                               Oceanside, California   \n",
       "236                                      Bazaar, Kansas   \n",
       "334                                  Amazonia, Missouri   \n",
       "354                                   Atlanta, Missouri   \n",
       "365                                  Near Gilmer, Texas   \n",
       "...                                                 ...   \n",
       "5248                          Clarence Center, New York   \n",
       "5251                             Amsterdam, Netherlands   \n",
       "5255                                       Tokyo, Japan   \n",
       "5259                           Mount Gergaji, Indonesia   \n",
       "5265  AtlantiOcean, 570 miles northeast of Natal, Br...   \n",
       "\n",
       "                               Operator Flight #  \\\n",
       "208                     Maddux Airlines        7   \n",
       "236   Trans Continental and Western Air      599   \n",
       "334                 Rapid Air Transport        6   \n",
       "354   Trans Continental and Western Air        6   \n",
       "365                     Delta Air Lines        4   \n",
       "...                                 ...      ...   \n",
       "5248  Continental Connection/Colgan Air     3407   \n",
       "5251                   Turkish Airlines     1951   \n",
       "5255                              FedEx       80   \n",
       "5259                         Mimika Air      514   \n",
       "5265                         Air France      447   \n",
       "\n",
       "                                                  Route  \\\n",
       "208                 Aqua Caliente, Mexico - Los Angeles   \n",
       "236                Kansas City - Wichita -  Los Angeles   \n",
       "334                                  Omaha - St. Joseph   \n",
       "354   Los Angeles - Albuquerque - Kanasas City -  Wa...   \n",
       "365                                   Dallas -  Atlanta   \n",
       "...                                                 ...   \n",
       "5248                         Newark, N.J. - Buffalo, NY   \n",
       "5251          Istanbul, Turkey - Amsterdam, Netherlands   \n",
       "5255                    Guangzhou, China - Tokyo, Japan   \n",
       "5259                                      Ilaga - Mulia   \n",
       "5265                             Rio de Janeiro - Paris   \n",
       "\n",
       "                           Type Registration       cn/In  Aboard  Fatalities  \\\n",
       "208       Ford 5-AT-C Tri Motor       NC9689    5-AT-046    16.0        16.0   \n",
       "236        Fokker F10A Trimotor       NC-999        1063     8.0         8.0   \n",
       "334           Stinson  SM-6000B      NC10809        5004     5.0         5.0   \n",
       "354            Douglas DC-2-112      NC13785        1295    14.0         5.0   \n",
       "365             Stinson Model A      NC14599        9103     4.0         4.0   \n",
       "...                         ...          ...         ...     ...         ...   \n",
       "5248  Bombardier DHC-8-402 Q400       N200WQ        4200    49.0        49.0   \n",
       "5251             Boeing 737-8F2       TC-JGE  29789/1065   134.0         9.0   \n",
       "5255    McDonnell Douglas MD-11       N526FE   48600/560     2.0         2.0   \n",
       "5259               Pilatus PC-6       PK-LTJ         959    11.0        11.0   \n",
       "5265            Airbus A330-203       F-GZCP         660   228.0       228.0   \n",
       "\n",
       "      Ground                                            Summary  \\\n",
       "208      0.0  While en route to Los Angeles, the pilot, flyi...   \n",
       "236      0.0  Shortly after taking off from Kansas City, one...   \n",
       "334      0.0  The plane crashed about 11 miles from St. Jose...   \n",
       "354      0.0  The plane crashed while en route from Albuquer...   \n",
       "365      0.0  Crashed 3 miles south of Gilmer. The outboard ...   \n",
       "...      ...                                                ...   \n",
       "5248     1.0  The commuter plane crashed while attemptiong t...   \n",
       "5251     0.0  The plane was on final approach to Runway 18R ...   \n",
       "5255     0.0  The cargo plane crashed and burst into flame a...   \n",
       "5259     0.0  The passenger plane crashed in poor weather in...   \n",
       "5265     0.0  The Airbus went missing over the AtlantiOcean ...   \n",
       "\n",
       "                                          lower_summary  \n",
       "208   while en route to los angeles, the pilot, flyi...  \n",
       "236   shortly after taking off from kansas city, one...  \n",
       "334   the plane crashed about 11 miles from st. jose...  \n",
       "354   the plane crashed while en route from albuquer...  \n",
       "365   crashed 3 miles south of gilmer. the outboard ...  \n",
       "...                                                 ...  \n",
       "5248  the commuter plane crashed while attemptiong t...  \n",
       "5251  the plane was on final approach to runway 18r ...  \n",
       "5255  the cargo plane crashed and burst into flame a...  \n",
       "5259  the passenger plane crashed in poor weather in...  \n",
       "5265  the airbus went missing over the atlantiocean ...  \n",
       "\n",
       "[944 rows x 15 columns]"
      ]
     },
     "execution_count": 42,
     "metadata": {},
     "output_type": "execute_result"
    }
   ],
   "source": [
    "airplane_df3.dropna()"
   ]
  },
  {
   "cell_type": "markdown",
   "metadata": {},
   "source": [
    "Because the values in the Summary are quite long, we will need to map them to the usual causes of airline crashes dependeing on what words are found in those values"
   ]
  },
  {
   "cell_type": "code",
   "execution_count": 43,
   "metadata": {},
   "outputs": [],
   "source": [
    "def one_word (df_list):\n",
    "    temp_list = df_list.copy()\n",
    "    for i in range (len(temp_list)):\n",
    "        if  \"thunder\" in str(temp_list[i]) or \"weather\" in str(temp_list[i]) or \"storm\" in str(temp_list[i]) or \"wind\" in str(temp_list[i]) or \"rain\" in str(temp_list[i]):\n",
    "            temp_list[i] = 'Weather'\n",
    "        elif \"shot down\" in str(temp_list[i]):\n",
    "            temp_list[i] = 'Shot down'\n",
    "        elif \"engine failure\" in str(temp_list[i]):\n",
    "            temp_list[i] = 'Engine failure'\n",
    "        elif \"shut down\" in str(temp_list[i]) or \"shut-down\" in str(temp_list[i]):\n",
    "            temp_list[i] = 'Shut down'\n",
    "        elif \"pilot error\" in str(temp_list[i]):\n",
    "            temp_list[i] = 'Pilot error'\n",
    "        elif \"mechanical\" in str(temp_list[i]):\n",
    "            temp_list[i] ='Mechanical'\n",
    "        elif \"exploded\" in str(temp_list[i]):\n",
    "            temp_list[i] ='Exploded'\n",
    "        elif \"missing\" in str(temp_list[i]) or \"disappeared\" in str(temp_list[i]):\n",
    "            temp_list[i] ='Missing'\n",
    "        elif \"collision\" in str(temp_list[i]):\n",
    "            temp_list[i] ='Collision'\n",
    "        elif \"stalled\" in str(temp_list[i]):\n",
    "            temp_list[i] ='Stalled'\n",
    "        elif \"striking\" in str(temp_list[i]):\n",
    "            temp_list[i] ='Striking'\n",
    "        else:\n",
    "            temp_list[i] ='Others'\n",
    "        \n",
    "    return temp_list"
   ]
  },
  {
   "cell_type": "markdown",
   "metadata": {},
   "source": [
    "Now that the Summary values has been shortened it is now easier to analize"
   ]
  },
  {
   "cell_type": "code",
   "execution_count": 44,
   "metadata": {},
   "outputs": [
    {
     "data": {
      "text/html": [
       "<div>\n",
       "<style scoped>\n",
       "    .dataframe tbody tr th:only-of-type {\n",
       "        vertical-align: middle;\n",
       "    }\n",
       "\n",
       "    .dataframe tbody tr th {\n",
       "        vertical-align: top;\n",
       "    }\n",
       "\n",
       "    .dataframe thead th {\n",
       "        text-align: right;\n",
       "    }\n",
       "</style>\n",
       "<table border=\"1\" class=\"dataframe\">\n",
       "  <thead>\n",
       "    <tr style=\"text-align: right;\">\n",
       "      <th></th>\n",
       "      <th>index</th>\n",
       "      <th>Date</th>\n",
       "      <th>Time</th>\n",
       "      <th>Location</th>\n",
       "      <th>Operator</th>\n",
       "      <th>Flight #</th>\n",
       "      <th>Route</th>\n",
       "      <th>Type</th>\n",
       "      <th>Registration</th>\n",
       "      <th>cn/In</th>\n",
       "      <th>Aboard</th>\n",
       "      <th>Fatalities</th>\n",
       "      <th>Ground</th>\n",
       "      <th>Summary</th>\n",
       "      <th>lower_summary</th>\n",
       "      <th>one_word_summary</th>\n",
       "    </tr>\n",
       "  </thead>\n",
       "  <tbody>\n",
       "    <tr>\n",
       "      <th>0</th>\n",
       "      <td>0</td>\n",
       "      <td>1908-09-17</td>\n",
       "      <td>17:18</td>\n",
       "      <td>Fort Myer, Virginia</td>\n",
       "      <td>Military - U.S. Army</td>\n",
       "      <td>NaN</td>\n",
       "      <td>Demonstration</td>\n",
       "      <td>Wright Flyer III</td>\n",
       "      <td>NaN</td>\n",
       "      <td>1</td>\n",
       "      <td>2.0</td>\n",
       "      <td>1.0</td>\n",
       "      <td>0.0</td>\n",
       "      <td>During a demonstration flight, a U.S. Army fly...</td>\n",
       "      <td>during a demonstration flight, a u.s. army fly...</td>\n",
       "      <td>Others</td>\n",
       "    </tr>\n",
       "    <tr>\n",
       "      <th>1</th>\n",
       "      <td>1</td>\n",
       "      <td>1912-07-12</td>\n",
       "      <td>06:30</td>\n",
       "      <td>AtlantiCity, New Jersey</td>\n",
       "      <td>Military - U.S. Navy</td>\n",
       "      <td>NaN</td>\n",
       "      <td>Test flight</td>\n",
       "      <td>Dirigible</td>\n",
       "      <td>NaN</td>\n",
       "      <td>NaN</td>\n",
       "      <td>5.0</td>\n",
       "      <td>5.0</td>\n",
       "      <td>0.0</td>\n",
       "      <td>First U.S. dirigible Akron exploded just offsh...</td>\n",
       "      <td>first u.s. dirigible akron exploded just offsh...</td>\n",
       "      <td>Exploded</td>\n",
       "    </tr>\n",
       "    <tr>\n",
       "      <th>2</th>\n",
       "      <td>2</td>\n",
       "      <td>1913-08-06</td>\n",
       "      <td>NaN</td>\n",
       "      <td>Victoria, British Columbia, Canada</td>\n",
       "      <td>Private</td>\n",
       "      <td>-</td>\n",
       "      <td>NaN</td>\n",
       "      <td>Curtiss seaplane</td>\n",
       "      <td>NaN</td>\n",
       "      <td>NaN</td>\n",
       "      <td>1.0</td>\n",
       "      <td>1.0</td>\n",
       "      <td>0.0</td>\n",
       "      <td>The first fatal airplane accident in Canada oc...</td>\n",
       "      <td>the first fatal airplane accident in canada oc...</td>\n",
       "      <td>Weather</td>\n",
       "    </tr>\n",
       "    <tr>\n",
       "      <th>3</th>\n",
       "      <td>3</td>\n",
       "      <td>1913-09-09</td>\n",
       "      <td>18:30</td>\n",
       "      <td>Over the North Sea</td>\n",
       "      <td>Military - German Navy</td>\n",
       "      <td>NaN</td>\n",
       "      <td>NaN</td>\n",
       "      <td>Zeppelin L-1 (airship)</td>\n",
       "      <td>NaN</td>\n",
       "      <td>NaN</td>\n",
       "      <td>20.0</td>\n",
       "      <td>14.0</td>\n",
       "      <td>0.0</td>\n",
       "      <td>The airship flew into a thunderstorm and encou...</td>\n",
       "      <td>the airship flew into a thunderstorm and encou...</td>\n",
       "      <td>Weather</td>\n",
       "    </tr>\n",
       "    <tr>\n",
       "      <th>4</th>\n",
       "      <td>4</td>\n",
       "      <td>1913-10-17</td>\n",
       "      <td>10:30</td>\n",
       "      <td>Near Johannisthal, Germany</td>\n",
       "      <td>Military - German Navy</td>\n",
       "      <td>NaN</td>\n",
       "      <td>NaN</td>\n",
       "      <td>Zeppelin L-2 (airship)</td>\n",
       "      <td>NaN</td>\n",
       "      <td>NaN</td>\n",
       "      <td>30.0</td>\n",
       "      <td>30.0</td>\n",
       "      <td>0.0</td>\n",
       "      <td>Hydrogen gas which was being vented was sucked...</td>\n",
       "      <td>hydrogen gas which was being vented was sucked...</td>\n",
       "      <td>Others</td>\n",
       "    </tr>\n",
       "  </tbody>\n",
       "</table>\n",
       "</div>"
      ],
      "text/plain": [
       "   index       Date   Time                            Location  \\\n",
       "0      0 1908-09-17  17:18                 Fort Myer, Virginia   \n",
       "1      1 1912-07-12  06:30             AtlantiCity, New Jersey   \n",
       "2      2 1913-08-06    NaN  Victoria, British Columbia, Canada   \n",
       "3      3 1913-09-09  18:30                  Over the North Sea   \n",
       "4      4 1913-10-17  10:30          Near Johannisthal, Germany   \n",
       "\n",
       "                 Operator Flight #          Route                    Type  \\\n",
       "0    Military - U.S. Army      NaN  Demonstration        Wright Flyer III   \n",
       "1    Military - U.S. Navy      NaN    Test flight               Dirigible   \n",
       "2                 Private        -            NaN        Curtiss seaplane   \n",
       "3  Military - German Navy      NaN            NaN  Zeppelin L-1 (airship)   \n",
       "4  Military - German Navy      NaN            NaN  Zeppelin L-2 (airship)   \n",
       "\n",
       "  Registration cn/In  Aboard  Fatalities  Ground  \\\n",
       "0          NaN     1     2.0         1.0     0.0   \n",
       "1          NaN   NaN     5.0         5.0     0.0   \n",
       "2          NaN   NaN     1.0         1.0     0.0   \n",
       "3          NaN   NaN    20.0        14.0     0.0   \n",
       "4          NaN   NaN    30.0        30.0     0.0   \n",
       "\n",
       "                                             Summary  \\\n",
       "0  During a demonstration flight, a U.S. Army fly...   \n",
       "1  First U.S. dirigible Akron exploded just offsh...   \n",
       "2  The first fatal airplane accident in Canada oc...   \n",
       "3  The airship flew into a thunderstorm and encou...   \n",
       "4  Hydrogen gas which was being vented was sucked...   \n",
       "\n",
       "                                       lower_summary one_word_summary  \n",
       "0  during a demonstration flight, a u.s. army fly...           Others  \n",
       "1  first u.s. dirigible akron exploded just offsh...         Exploded  \n",
       "2  the first fatal airplane accident in canada oc...          Weather  \n",
       "3  the airship flew into a thunderstorm and encou...          Weather  \n",
       "4  hydrogen gas which was being vented was sucked...           Others  "
      ]
     },
     "execution_count": 44,
     "metadata": {},
     "output_type": "execute_result"
    }
   ],
   "source": [
    "one_word_summary =one_word(airplane_df3['lower_summary'])\n",
    "airplane_df3['one_word_summary'] = one_word_summary\n",
    "airplane_df3.head()"
   ]
  },
  {
   "cell_type": "code",
   "execution_count": 51,
   "metadata": {},
   "outputs": [
    {
     "data": {
      "text/plain": [
       "'Hydrogen gas which was being vented was sucked into the forward engine and ignited causing the airship to explode and burn at 3,000 ft..'"
      ]
     },
     "execution_count": 51,
     "metadata": {},
     "output_type": "execute_result"
    }
   ],
   "source": [
    "airplane_df3['one_word_summary'].value_counts()"
   ]
  },
  {
   "cell_type": "code",
   "execution_count": 46,
   "metadata": {},
   "outputs": [
    {
     "data": {
      "text/plain": [
       "Text(0.5, 1.0, 'Causes of Crashes')"
      ]
     },
     "execution_count": 46,
     "metadata": {},
     "output_type": "execute_result"
    },
    {
     "data": {
      "image/png": "[encoded data removed]",
      "text/plain": [
       "<Figure size 720x504 with 1 Axes>"
      ]
     },
     "metadata": {
      "needs_background": "light"
     },
     "output_type": "display_data"
    }
   ],
   "source": [
    "#visualization of the amount of crashes and its causes\n",
    "airplane_df3['one_word_summary'].value_counts().plot.barh(figsize=(10,7)).invert_yaxis()\n",
    "plt.ylabel('Cause')\n",
    "plt.xlabel('Count')\n",
    "plt.title('Causes of Crashes')"
   ]
  },
  {
   "cell_type": "markdown",
   "metadata": {},
   "source": [
    "As seen on the bargraph above, the most common reasons for aircraft crashes is simply that it has crashed unto something. Second most common are other incidents less common incidents, while the third most common reasons are due to weather conditions"
   ]
  },
  {
   "cell_type": "markdown",
   "metadata": {},
   "source": [
    "a. Which causes the highest fatalities on average"
   ]
  },
  {
   "cell_type": "code",
   "execution_count": 47,
   "metadata": {},
   "outputs": [
    {
     "data": {
      "text/plain": [
       "one_word_summary\n",
       "Collision         36.425743\n",
       "Engine failure    18.317881\n",
       "Exploded          39.043478\n",
       "Mechanical        24.933333\n",
       "Missing           29.957895\n",
       "Others            17.630278\n",
       "Pilot error       21.333333\n",
       "Shot down         34.222222\n",
       "Shut down         14.562500\n",
       "Stalled           27.489051\n",
       "Striking          17.666667\n",
       "Weather           21.140502\n",
       "Name: Fatalities, dtype: float64"
      ]
     },
     "execution_count": 47,
     "metadata": {},
     "output_type": "execute_result"
    }
   ],
   "source": [
    "fat_mean=airplane_df3.groupby(['one_word_summary'])['Fatalities'].mean()\n",
    "\n",
    "fat_mean"
   ]
  },
  {
   "cell_type": "code",
   "execution_count": 48,
   "metadata": {},
   "outputs": [
    {
     "data": {
      "text/plain": [
       "<AxesSubplot:xlabel='one_word_summary'>"
      ]
     },
     "execution_count": 48,
     "metadata": {},
     "output_type": "execute_result"
    },
    {
     "data": {
      "image/png": "[encoded data removed]",
      "text/plain": [
       "<Figure size 432x288 with 1 Axes>"
      ]
     },
     "metadata": {
      "needs_background": "light"
     },
     "output_type": "display_data"
    }
   ],
   "source": [
    "fat_mean.plot.bar(x='one_word_summary', y='Fatalities')"
   ]
  },
  {
   "cell_type": "markdown",
   "metadata": {},
   "source": [
    "As seen on the bar graph it seems that what yields the most fatalities on average is when the aircraft explodes"
   ]
  },
  {
   "cell_type": "markdown",
   "metadata": {},
   "source": [
    "# Research Question:\n",
    "### What considerations can be made to lessen the risk of future air transportation related incidents and fatalities?\n",
    "\n",
    "The data that will be analyized may be used by historians, engineers, pilots, investigators, and even passengers. The given considerations may help aerospace companies further develop their policies and design for the safety of both passengers and crew. Additionally, investigators and historians may refer to the analyized data when investigating the causes of plane crashes and incidents. "
   ]
  }
 ],
 "metadata": {
  "kernelspec": {
   "display_name": "Python 3.9.12 ('base')",
   "language": "python",
   "name": "python3"
  },
  "language_info": {
   "codemirror_mode": {
    "name": "ipython",
    "version": 3
   },
   "file_extension": ".py",
   "mimetype": "text/x-python",
   "name": "python",
   "nbconvert_exporter": "python",
   "pygments_lexer": "ipython3",
   "version": "3.9.12"
  },
  "vscode": {
   "interpreter": {
    "hash": "4836aab9230707cf36e93c729ff9a67bdbebd51947e18404ed5a25d63daeec60"
   }
  }
 },
 "nbformat": 4,
 "nbformat_minor": 4
}
