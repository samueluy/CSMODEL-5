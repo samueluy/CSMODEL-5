{
 "cells": [
  {
   "cell_type": "markdown",
   "metadata": {},
   "source": [
    "# Dataset Description Questions\n",
    "* Brief description of the dataset;\n",
    "* Provide a description of the collection process executed to build the dataset. Discuss the implications of the data collection method on the generated conclusions and insights. Note that you may need to look at relevant sources related to the dataset to be able to provide the necessary information for this part of the project.\n",
    "* Describe the structure of the dataset file. In the dataset file, what does each row and column represent? How many observations are there in the dataset? How many variables are there in the dataset? If the dataset is composed of different files that you will combine in the succeeding steps, describe the structure and the contents of each file.\n",
    "\n",
    "* Discuss the variables in each dataset file. What does each variable represent? In this section, all variables, even those which are not used for the study, should be described to the reader. The purpose of each variable in the dataset should be clear to the reader of the notebook without having to go through an external link.\n"
   ]
  },
  {
   "cell_type": "markdown",
   "metadata": {},
   "source": [
    "# Dataset Description\n",
    "The following dataset presents aviation related incidents since 1908 until 2009. It consists of information of over 5,000 airplane crashes around the world. Analyizing similar data is important for the advancement of aviation safety. It contains information such as the time and date of the incident, where it happened, how many people were involved, the type of plane and its operator, and much more.\n",
    "\n",
    "The dataset was obtained from the Data Society. ## Add methodology\n",
    "\n",
    "### Rows:\n",
    "- Each row represents an individual record of an incident involving airplanes since 1908 until 2009.\n",
    "\n",
    "### Columns:\n",
    "- **index**: index of the row\n",
    "- **Date**: date of the incident\n",
    "- **Time**: time of the incident\n",
    "- **Location**: location of the incident\n",
    "- **Operator**: operator of the aircraft\n",
    "- **Flight #**: flight number of the aircraft\n",
    "- **Route**: route of the aircraft\n",
    "- **Type**: type of aircraft\n",
    "- **Registration**: registration of the aircraft\n",
    "- **cn/ln**: construction number/serial number of the aircraft\n",
    "- **Aboard**: number people on board the aircraft\n",
    "- **Fatalities**: fatalities in the incident\n",
    "- **Ground**: number of the people on the ground killed\n",
    "- **Summary**: summary of the incident"
   ]
  },
  {
   "cell_type": "markdown",
   "metadata": {
    "tags": []
   },
   "source": [
    "# Exploratory Data Analysis\n",
    "* Identify three (3) exploratory data analysis questions. Properly state the questions in the notebook.\n",
    "* Answer the EDA questions using both:\n",
    "    * Numerical Summaries – measures of central tendency, measures of dispersion,and correlation\n",
    "    * Visualization – Appropriate visualization should be used. Each visualization should be accompanied by a brief explanation.\n",
    "To emphasize, both numerical summary and visualization should be presented for each question.\n",
    "The whole process should be supported with verbose textual descriptions of your procedures and\n",
    "findings."
   ]
  },
  {
   "cell_type": "code",
   "execution_count": 1,
   "metadata": {
    "_cell_guid": "b1076dfc-b9ad-4769-8c92-a6c4dae69d19",
    "_uuid": "8f2839f25d086af736a60e9eeb907d3b93b6e0e5",
    "tags": []
   },
   "outputs": [],
   "source": [
    "#Import Libraries\n",
    "import numpy as np # linear algebra\n",
    "import pandas as pd # data processing\n",
    "import matplotlib.pyplot as plt\n",
    "import datetime\n",
    "from scipy.stats import chi2_contingency"
   ]
  },
  {
   "cell_type": "code",
   "execution_count": 2,
   "metadata": {},
   "outputs": [
    {
     "data": {
      "text/html": [
       "<div>\n",
       "<style scoped>\n",
       "    .dataframe tbody tr th:only-of-type {\n",
       "        vertical-align: middle;\n",
       "    }\n",
       "\n",
       "    .dataframe tbody tr th {\n",
       "        vertical-align: top;\n",
       "    }\n",
       "\n",
       "    .dataframe thead th {\n",
       "        text-align: right;\n",
       "    }\n",
       "</style>\n",
       "<table border=\"1\" class=\"dataframe\">\n",
       "  <thead>\n",
       "    <tr style=\"text-align: right;\">\n",
       "      <th></th>\n",
       "      <th>index</th>\n",
       "      <th>Date</th>\n",
       "      <th>Time</th>\n",
       "      <th>Location</th>\n",
       "      <th>Operator</th>\n",
       "      <th>Flight #</th>\n",
       "      <th>Route</th>\n",
       "      <th>Type</th>\n",
       "      <th>Registration</th>\n",
       "      <th>cn/In</th>\n",
       "      <th>Aboard</th>\n",
       "      <th>Fatalities</th>\n",
       "      <th>Ground</th>\n",
       "      <th>Summary</th>\n",
       "    </tr>\n",
       "  </thead>\n",
       "  <tbody>\n",
       "    <tr>\n",
       "      <th>0</th>\n",
       "      <td>0</td>\n",
       "      <td>09/17/1908</td>\n",
       "      <td>17:18</td>\n",
       "      <td>Fort Myer, Virginia</td>\n",
       "      <td>Military - U.S. Army</td>\n",
       "      <td>NaN</td>\n",
       "      <td>Demonstration</td>\n",
       "      <td>Wright Flyer III</td>\n",
       "      <td>NaN</td>\n",
       "      <td>1</td>\n",
       "      <td>2.0</td>\n",
       "      <td>1.0</td>\n",
       "      <td>0.0</td>\n",
       "      <td>During a demonstration flight, a U.S. Army fly...</td>\n",
       "    </tr>\n",
       "    <tr>\n",
       "      <th>1</th>\n",
       "      <td>1</td>\n",
       "      <td>07/12/1912</td>\n",
       "      <td>06:30</td>\n",
       "      <td>AtlantiCity, New Jersey</td>\n",
       "      <td>Military - U.S. Navy</td>\n",
       "      <td>NaN</td>\n",
       "      <td>Test flight</td>\n",
       "      <td>Dirigible</td>\n",
       "      <td>NaN</td>\n",
       "      <td>NaN</td>\n",
       "      <td>5.0</td>\n",
       "      <td>5.0</td>\n",
       "      <td>0.0</td>\n",
       "      <td>First U.S. dirigible Akron exploded just offsh...</td>\n",
       "    </tr>\n",
       "    <tr>\n",
       "      <th>2</th>\n",
       "      <td>2</td>\n",
       "      <td>08/06/1913</td>\n",
       "      <td>NaN</td>\n",
       "      <td>Victoria, British Columbia, Canada</td>\n",
       "      <td>Private</td>\n",
       "      <td>-</td>\n",
       "      <td>NaN</td>\n",
       "      <td>Curtiss seaplane</td>\n",
       "      <td>NaN</td>\n",
       "      <td>NaN</td>\n",
       "      <td>1.0</td>\n",
       "      <td>1.0</td>\n",
       "      <td>0.0</td>\n",
       "      <td>The first fatal airplane accident in Canada oc...</td>\n",
       "    </tr>\n",
       "    <tr>\n",
       "      <th>3</th>\n",
       "      <td>3</td>\n",
       "      <td>09/09/1913</td>\n",
       "      <td>18:30</td>\n",
       "      <td>Over the North Sea</td>\n",
       "      <td>Military - German Navy</td>\n",
       "      <td>NaN</td>\n",
       "      <td>NaN</td>\n",
       "      <td>Zeppelin L-1 (airship)</td>\n",
       "      <td>NaN</td>\n",
       "      <td>NaN</td>\n",
       "      <td>20.0</td>\n",
       "      <td>14.0</td>\n",
       "      <td>0.0</td>\n",
       "      <td>The airship flew into a thunderstorm and encou...</td>\n",
       "    </tr>\n",
       "    <tr>\n",
       "      <th>4</th>\n",
       "      <td>4</td>\n",
       "      <td>10/17/1913</td>\n",
       "      <td>10:30</td>\n",
       "      <td>Near Johannisthal, Germany</td>\n",
       "      <td>Military - German Navy</td>\n",
       "      <td>NaN</td>\n",
       "      <td>NaN</td>\n",
       "      <td>Zeppelin L-2 (airship)</td>\n",
       "      <td>NaN</td>\n",
       "      <td>NaN</td>\n",
       "      <td>30.0</td>\n",
       "      <td>30.0</td>\n",
       "      <td>0.0</td>\n",
       "      <td>Hydrogen gas which was being vented was sucked...</td>\n",
       "    </tr>\n",
       "  </tbody>\n",
       "</table>\n",
       "</div>"
      ],
      "text/plain": [
       "   index        Date   Time                            Location  \\\n",
       "0      0  09/17/1908  17:18                 Fort Myer, Virginia   \n",
       "1      1  07/12/1912  06:30             AtlantiCity, New Jersey   \n",
       "2      2  08/06/1913    NaN  Victoria, British Columbia, Canada   \n",
       "3      3  09/09/1913  18:30                  Over the North Sea   \n",
       "4      4  10/17/1913  10:30          Near Johannisthal, Germany   \n",
       "\n",
       "                 Operator Flight #          Route                    Type  \\\n",
       "0    Military - U.S. Army      NaN  Demonstration        Wright Flyer III   \n",
       "1    Military - U.S. Navy      NaN    Test flight               Dirigible   \n",
       "2                 Private        -            NaN        Curtiss seaplane   \n",
       "3  Military - German Navy      NaN            NaN  Zeppelin L-1 (airship)   \n",
       "4  Military - German Navy      NaN            NaN  Zeppelin L-2 (airship)   \n",
       "\n",
       "  Registration cn/In  Aboard  Fatalities  Ground  \\\n",
       "0          NaN     1     2.0         1.0     0.0   \n",
       "1          NaN   NaN     5.0         5.0     0.0   \n",
       "2          NaN   NaN     1.0         1.0     0.0   \n",
       "3          NaN   NaN    20.0        14.0     0.0   \n",
       "4          NaN   NaN    30.0        30.0     0.0   \n",
       "\n",
       "                                             Summary  \n",
       "0  During a demonstration flight, a U.S. Army fly...  \n",
       "1  First U.S. dirigible Akron exploded just offsh...  \n",
       "2  The first fatal airplane accident in Canada oc...  \n",
       "3  The airship flew into a thunderstorm and encou...  \n",
       "4  Hydrogen gas which was being vented was sucked...  "
      ]
     },
     "execution_count": 2,
     "metadata": {},
     "output_type": "execute_result"
    }
   ],
   "source": [
    "airplane_df = pd.read_csv('Airplane_Crashes_and_Fatalities_Since_1908.csv')\n",
    "airplane_df.head()"
   ]
  },
  {
   "cell_type": "markdown",
   "metadata": {},
   "source": [
    "**1. How many aircraft related fatalities are there per year starting from 1908 to 2009?**"
   ]
  },
  {
   "cell_type": "code",
   "execution_count": 3,
   "metadata": {},
   "outputs": [
    {
     "data": {
      "text/plain": [
       "Year\n",
       "1972    2937\n",
       "1985    2670\n",
       "1973    2485\n",
       "1996    2386\n",
       "1974    2318\n",
       "        ... \n",
       "1920      24\n",
       "1924      18\n",
       "1912       5\n",
       "1919       5\n",
       "1908       1\n",
       "Name: Fatalities, Length: 98, dtype: int32"
      ]
     },
     "execution_count": 3,
     "metadata": {},
     "output_type": "execute_result"
    }
   ],
   "source": [
    "year_list = []\n",
    "airplane_df['Date'] = pd.to_datetime(airplane_df['Date']) # convert to datetime\n",
    "for i in range(len(airplane_df.index)):\n",
    "    year_list.append(airplane_df.iloc[i]['Date'].year)\n",
    "\n",
    "airplane_df2 = airplane_df.assign(Year=year_list)\n",
    "\n",
    "airplane_df2.groupby(['Year'])['Fatalities'].sum().sort_values(ascending=False).astype(int)\n"
   ]
  },
  {
   "cell_type": "markdown",
   "metadata": {},
   "source": [
    "It can be seen here that the year with the highest number of fatalities is 1972 with 2937 total fatalities recorded and the least number of fatalities was during 1908 with only 1 fatality."
   ]
  },
  {
   "cell_type": "code",
   "execution_count": 4,
   "metadata": {},
   "outputs": [
    {
     "data": {
      "text/plain": [
       "<AxesSubplot: xlabel='Year', ylabel='Fatalities'>"
      ]
     },
     "execution_count": 4,
     "metadata": {},
     "output_type": "execute_result"
    },
    {
     "data": {
      "image/png": "[encoded data removed]",
      "text/plain": [
       "<Figure size 640x480 with 1 Axes>"
      ]
     },
     "metadata": {},
     "output_type": "display_data"
    }
   ],
   "source": [
    "yearly_fatalities = airplane_df2.groupby(['Year'])['Fatalities'].sum().reset_index()\n",
    "yearly_fatalities.corr()\n",
    "yearly_fatalities.plot.scatter(x='Year', y='Fatalities')"
   ]
  },
  {
   "cell_type": "markdown",
   "metadata": {},
   "source": [
    "This plot was set to see if there is any relationship between the year and the number of fatalities recorded. Based on this, it can be assumed that the number of fatalities increased until the 60's before it started to drop again. It can also be noticed that a drastic drop of the number of fatalities started during the 2000's."
   ]
  },
  {
   "cell_type": "markdown",
   "metadata": {},
   "source": [
    "*b. What is the average fatalities per decade?*"
   ]
  },
  {
   "cell_type": "code",
   "execution_count": 5,
   "metadata": {},
   "outputs": [
    {
     "data": {
      "text/plain": [
       "Decade\n",
       "1900     1.00\n",
       "1910    15.08\n",
       "1920     3.56\n",
       "1930     5.78\n",
       "1940    15.93\n",
       "1950    18.56\n",
       "1960    23.05\n",
       "1970    25.24\n",
       "1980    24.91\n",
       "1990    21.78\n",
       "2000    18.97\n",
       "Name: Fatalities, dtype: float64"
      ]
     },
     "execution_count": 5,
     "metadata": {},
     "output_type": "execute_result"
    }
   ],
   "source": [
    "decade_list = []\n",
    "for i in range(len(airplane_df.index)):\n",
    "    decade = int(np.floor(airplane_df2.iloc[i]['Year']/10)*10) # get decade\n",
    "    decade_list.append(decade)\n",
    "\n",
    "airplane_df2 = airplane_df2.assign(Decade=decade_list)\n",
    "\n",
    "decade_fatalities = airplane_df2.groupby(['Decade'])['Fatalities'].mean()\n",
    "decade_fatalities.round(2)"
   ]
  },
  {
   "cell_type": "markdown",
   "metadata": {},
   "source": [
    "- Is there a relationship between the decade that the crash happened and the number of fatalities?"
   ]
  },
  {
   "cell_type": "code",
   "execution_count": 6,
   "metadata": {},
   "outputs": [
    {
     "data": {
      "text/plain": [
       "<AxesSubplot: xlabel='Decade'>"
      ]
     },
     "execution_count": 6,
     "metadata": {},
     "output_type": "execute_result"
    },
    {
     "data": {
      "image/png": "[encoded data removed]",
      "text/plain": [
       "<Figure size 640x480 with 1 Axes>"
      ]
     },
     "metadata": {},
     "output_type": "display_data"
    }
   ],
   "source": [
    "decade_fatalities.plot.bar(x='Decade', y='Fatalities')"
   ]
  },
  {
   "cell_type": "markdown",
   "metadata": {},
   "source": [
    "There is a sudden jump of fatalities during the second decade. A possible cause for this is because air transportation has just been discovered, a lot of people were trying to innovate and build new machinery which would unfortunately fail. The number of fatalities drastically increased from the 30's to the 60's before it starts a downward trend. This may be due to the sudden rise in demand of air transportation. It was only during the recent years where the development for air transportation safety has picked up pace."
   ]
  },
  {
   "cell_type": "markdown",
   "metadata": {},
   "source": [
    "**2. What is the country with the most airplane crashes?**"
   ]
  },
  {
   "cell_type": "code",
   "execution_count": 7,
   "metadata": {},
   "outputs": [],
   "source": [
    "#code here"
   ]
  },
  {
   "cell_type": "markdown",
   "metadata": {},
   "source": [
    "*b. What is the country with the most aircraft related fatalities*"
   ]
  },
  {
   "cell_type": "code",
   "execution_count": 8,
   "metadata": {},
   "outputs": [],
   "source": [
    "#code here"
   ]
  },
  {
   "cell_type": "markdown",
   "metadata": {},
   "source": [
    "**3. What are the common causes of plane crashes?**"
   ]
  },
  {
   "cell_type": "code",
   "execution_count": 9,
   "metadata": {},
   "outputs": [],
   "source": [
    "def to_lower_case(text_series):\n",
    "\n",
    "    return text_series.str.lower()"
   ]
  },
  {
   "cell_type": "code",
   "execution_count": 10,
   "metadata": {},
   "outputs": [],
   "source": [
    "airplane_df3 = airplane_df.copy()"
   ]
  },
  {
   "cell_type": "code",
   "execution_count": 11,
   "metadata": {},
   "outputs": [
    {
     "data": {
      "text/plain": [
       "0       during a demonstration flight, a u.s. army fly...\n",
       "1       first u.s. dirigible akron exploded just offsh...\n",
       "2       the first fatal airplane accident in canada oc...\n",
       "3       the airship flew into a thunderstorm and encou...\n",
       "4       hydrogen gas which was being vented was sucked...\n",
       "                              ...                        \n",
       "5263    while on approach, the military transport cras...\n",
       "5264    the cargo plane crashed while on approach to i...\n",
       "5265    the airbus went missing over the atlantiocean ...\n",
       "5266    the air ambulance crashed into hills while att...\n",
       "5267    the military transport went missing while en r...\n",
       "Name: lower_summary, Length: 5268, dtype: object"
      ]
     },
     "execution_count": 11,
     "metadata": {},
     "output_type": "execute_result"
    }
   ],
   "source": [
    "airplane_df3['lower_summary'] = to_lower_case(airplane_df3['Summary'])\n",
    "airplane_df3['lower_summary']"
   ]
  },
  {
   "cell_type": "code",
   "execution_count": 12,
   "metadata": {},
   "outputs": [
    {
     "data": {
      "text/plain": [
       "390"
      ]
     },
     "execution_count": 12,
     "metadata": {},
     "output_type": "execute_result"
    }
   ],
   "source": [
    "airplane_df3['lower_summary'].isna().sum()"
   ]
  },
  {
   "cell_type": "code",
   "execution_count": 13,
   "metadata": {},
   "outputs": [
    {
     "data": {
      "text/html": [
       "<div>\n",
       "<style scoped>\n",
       "    .dataframe tbody tr th:only-of-type {\n",
       "        vertical-align: middle;\n",
       "    }\n",
       "\n",
       "    .dataframe tbody tr th {\n",
       "        vertical-align: top;\n",
       "    }\n",
       "\n",
       "    .dataframe thead th {\n",
       "        text-align: right;\n",
       "    }\n",
       "</style>\n",
       "<table border=\"1\" class=\"dataframe\">\n",
       "  <thead>\n",
       "    <tr style=\"text-align: right;\">\n",
       "      <th></th>\n",
       "      <th>index</th>\n",
       "      <th>Date</th>\n",
       "      <th>Time</th>\n",
       "      <th>Location</th>\n",
       "      <th>Operator</th>\n",
       "      <th>Flight #</th>\n",
       "      <th>Route</th>\n",
       "      <th>Type</th>\n",
       "      <th>Registration</th>\n",
       "      <th>cn/In</th>\n",
       "      <th>Aboard</th>\n",
       "      <th>Fatalities</th>\n",
       "      <th>Ground</th>\n",
       "      <th>Summary</th>\n",
       "      <th>lower_summary</th>\n",
       "    </tr>\n",
       "  </thead>\n",
       "  <tbody>\n",
       "    <tr>\n",
       "      <th>208</th>\n",
       "      <td>208</td>\n",
       "      <td>1930-01-19</td>\n",
       "      <td>18:23</td>\n",
       "      <td>Oceanside, California</td>\n",
       "      <td>Maddux Airlines</td>\n",
       "      <td>7</td>\n",
       "      <td>Aqua Caliente, Mexico - Los Angeles</td>\n",
       "      <td>Ford 5-AT-C Tri Motor</td>\n",
       "      <td>NC9689</td>\n",
       "      <td>5-AT-046</td>\n",
       "      <td>16.0</td>\n",
       "      <td>16.0</td>\n",
       "      <td>0.0</td>\n",
       "      <td>While en route to Los Angeles, the pilot, flyi...</td>\n",
       "      <td>while en route to los angeles, the pilot, flyi...</td>\n",
       "    </tr>\n",
       "    <tr>\n",
       "      <th>236</th>\n",
       "      <td>236</td>\n",
       "      <td>1931-03-31</td>\n",
       "      <td>10:45</td>\n",
       "      <td>Bazaar, Kansas</td>\n",
       "      <td>Trans Continental and Western Air</td>\n",
       "      <td>599</td>\n",
       "      <td>Kansas City - Wichita -  Los Angeles</td>\n",
       "      <td>Fokker F10A Trimotor</td>\n",
       "      <td>NC-999</td>\n",
       "      <td>1063</td>\n",
       "      <td>8.0</td>\n",
       "      <td>8.0</td>\n",
       "      <td>0.0</td>\n",
       "      <td>Shortly after taking off from Kansas City, one...</td>\n",
       "      <td>shortly after taking off from kansas city, one...</td>\n",
       "    </tr>\n",
       "    <tr>\n",
       "      <th>334</th>\n",
       "      <td>334</td>\n",
       "      <td>1934-08-31</td>\n",
       "      <td>23:42</td>\n",
       "      <td>Amazonia, Missouri</td>\n",
       "      <td>Rapid Air Transport</td>\n",
       "      <td>6</td>\n",
       "      <td>Omaha - St. Joseph</td>\n",
       "      <td>Stinson  SM-6000B</td>\n",
       "      <td>NC10809</td>\n",
       "      <td>5004</td>\n",
       "      <td>5.0</td>\n",
       "      <td>5.0</td>\n",
       "      <td>0.0</td>\n",
       "      <td>The plane crashed about 11 miles from St. Jose...</td>\n",
       "      <td>the plane crashed about 11 miles from st. jose...</td>\n",
       "    </tr>\n",
       "    <tr>\n",
       "      <th>354</th>\n",
       "      <td>354</td>\n",
       "      <td>1935-05-06</td>\n",
       "      <td>03:30</td>\n",
       "      <td>Atlanta, Missouri</td>\n",
       "      <td>Trans Continental and Western Air</td>\n",
       "      <td>6</td>\n",
       "      <td>Los Angeles - Albuquerque - Kanasas City -  Wa...</td>\n",
       "      <td>Douglas DC-2-112</td>\n",
       "      <td>NC13785</td>\n",
       "      <td>1295</td>\n",
       "      <td>14.0</td>\n",
       "      <td>5.0</td>\n",
       "      <td>0.0</td>\n",
       "      <td>The plane crashed while en route from Albuquer...</td>\n",
       "      <td>the plane crashed while en route from albuquer...</td>\n",
       "    </tr>\n",
       "    <tr>\n",
       "      <th>365</th>\n",
       "      <td>365</td>\n",
       "      <td>1935-08-14</td>\n",
       "      <td>23:45</td>\n",
       "      <td>Near Gilmer, Texas</td>\n",
       "      <td>Delta Air Lines</td>\n",
       "      <td>4</td>\n",
       "      <td>Dallas -  Atlanta</td>\n",
       "      <td>Stinson Model A</td>\n",
       "      <td>NC14599</td>\n",
       "      <td>9103</td>\n",
       "      <td>4.0</td>\n",
       "      <td>4.0</td>\n",
       "      <td>0.0</td>\n",
       "      <td>Crashed 3 miles south of Gilmer. The outboard ...</td>\n",
       "      <td>crashed 3 miles south of gilmer. the outboard ...</td>\n",
       "    </tr>\n",
       "    <tr>\n",
       "      <th>...</th>\n",
       "      <td>...</td>\n",
       "      <td>...</td>\n",
       "      <td>...</td>\n",
       "      <td>...</td>\n",
       "      <td>...</td>\n",
       "      <td>...</td>\n",
       "      <td>...</td>\n",
       "      <td>...</td>\n",
       "      <td>...</td>\n",
       "      <td>...</td>\n",
       "      <td>...</td>\n",
       "      <td>...</td>\n",
       "      <td>...</td>\n",
       "      <td>...</td>\n",
       "      <td>...</td>\n",
       "    </tr>\n",
       "    <tr>\n",
       "      <th>5248</th>\n",
       "      <td>5248</td>\n",
       "      <td>2009-02-12</td>\n",
       "      <td>22:17</td>\n",
       "      <td>Clarence Center, New York</td>\n",
       "      <td>Continental Connection/Colgan Air</td>\n",
       "      <td>3407</td>\n",
       "      <td>Newark, N.J. - Buffalo, NY</td>\n",
       "      <td>Bombardier DHC-8-402 Q400</td>\n",
       "      <td>N200WQ</td>\n",
       "      <td>4200</td>\n",
       "      <td>49.0</td>\n",
       "      <td>49.0</td>\n",
       "      <td>1.0</td>\n",
       "      <td>The commuter plane crashed while attemptiong t...</td>\n",
       "      <td>the commuter plane crashed while attemptiong t...</td>\n",
       "    </tr>\n",
       "    <tr>\n",
       "      <th>5251</th>\n",
       "      <td>5251</td>\n",
       "      <td>2009-02-25</td>\n",
       "      <td>10:31</td>\n",
       "      <td>Amsterdam, Netherlands</td>\n",
       "      <td>Turkish Airlines</td>\n",
       "      <td>1951</td>\n",
       "      <td>Istanbul, Turkey - Amsterdam, Netherlands</td>\n",
       "      <td>Boeing 737-8F2</td>\n",
       "      <td>TC-JGE</td>\n",
       "      <td>29789/1065</td>\n",
       "      <td>134.0</td>\n",
       "      <td>9.0</td>\n",
       "      <td>0.0</td>\n",
       "      <td>The plane was on final approach to Runway 18R ...</td>\n",
       "      <td>the plane was on final approach to runway 18r ...</td>\n",
       "    </tr>\n",
       "    <tr>\n",
       "      <th>5255</th>\n",
       "      <td>5255</td>\n",
       "      <td>2009-03-23</td>\n",
       "      <td>06:48</td>\n",
       "      <td>Tokyo, Japan</td>\n",
       "      <td>FedEx</td>\n",
       "      <td>80</td>\n",
       "      <td>Guangzhou, China - Tokyo, Japan</td>\n",
       "      <td>McDonnell Douglas MD-11</td>\n",
       "      <td>N526FE</td>\n",
       "      <td>48600/560</td>\n",
       "      <td>2.0</td>\n",
       "      <td>2.0</td>\n",
       "      <td>0.0</td>\n",
       "      <td>The cargo plane crashed and burst into flame a...</td>\n",
       "      <td>the cargo plane crashed and burst into flame a...</td>\n",
       "    </tr>\n",
       "    <tr>\n",
       "      <th>5259</th>\n",
       "      <td>5259</td>\n",
       "      <td>2009-04-17</td>\n",
       "      <td>10:30</td>\n",
       "      <td>Mount Gergaji, Indonesia</td>\n",
       "      <td>Mimika Air</td>\n",
       "      <td>514</td>\n",
       "      <td>Ilaga - Mulia</td>\n",
       "      <td>Pilatus PC-6</td>\n",
       "      <td>PK-LTJ</td>\n",
       "      <td>959</td>\n",
       "      <td>11.0</td>\n",
       "      <td>11.0</td>\n",
       "      <td>0.0</td>\n",
       "      <td>The passenger plane crashed in poor weather in...</td>\n",
       "      <td>the passenger plane crashed in poor weather in...</td>\n",
       "    </tr>\n",
       "    <tr>\n",
       "      <th>5265</th>\n",
       "      <td>5265</td>\n",
       "      <td>2009-06-01</td>\n",
       "      <td>00:15</td>\n",
       "      <td>AtlantiOcean, 570 miles northeast of Natal, Br...</td>\n",
       "      <td>Air France</td>\n",
       "      <td>447</td>\n",
       "      <td>Rio de Janeiro - Paris</td>\n",
       "      <td>Airbus A330-203</td>\n",
       "      <td>F-GZCP</td>\n",
       "      <td>660</td>\n",
       "      <td>228.0</td>\n",
       "      <td>228.0</td>\n",
       "      <td>0.0</td>\n",
       "      <td>The Airbus went missing over the AtlantiOcean ...</td>\n",
       "      <td>the airbus went missing over the atlantiocean ...</td>\n",
       "    </tr>\n",
       "  </tbody>\n",
       "</table>\n",
       "<p>944 rows × 15 columns</p>\n",
       "</div>"
      ],
      "text/plain": [
       "      index       Date   Time  \\\n",
       "208     208 1930-01-19  18:23   \n",
       "236     236 1931-03-31  10:45   \n",
       "334     334 1934-08-31  23:42   \n",
       "354     354 1935-05-06  03:30   \n",
       "365     365 1935-08-14  23:45   \n",
       "...     ...        ...    ...   \n",
       "5248   5248 2009-02-12  22:17   \n",
       "5251   5251 2009-02-25  10:31   \n",
       "5255   5255 2009-03-23  06:48   \n",
       "5259   5259 2009-04-17  10:30   \n",
       "5265   5265 2009-06-01  00:15   \n",
       "\n",
       "                                               Location  \\\n",
       "208                               Oceanside, California   \n",
       "236                                      Bazaar, Kansas   \n",
       "334                                  Amazonia, Missouri   \n",
       "354                                   Atlanta, Missouri   \n",
       "365                                  Near Gilmer, Texas   \n",
       "...                                                 ...   \n",
       "5248                          Clarence Center, New York   \n",
       "5251                             Amsterdam, Netherlands   \n",
       "5255                                       Tokyo, Japan   \n",
       "5259                           Mount Gergaji, Indonesia   \n",
       "5265  AtlantiOcean, 570 miles northeast of Natal, Br...   \n",
       "\n",
       "                               Operator Flight #  \\\n",
       "208                     Maddux Airlines        7   \n",
       "236   Trans Continental and Western Air      599   \n",
       "334                 Rapid Air Transport        6   \n",
       "354   Trans Continental and Western Air        6   \n",
       "365                     Delta Air Lines        4   \n",
       "...                                 ...      ...   \n",
       "5248  Continental Connection/Colgan Air     3407   \n",
       "5251                   Turkish Airlines     1951   \n",
       "5255                              FedEx       80   \n",
       "5259                         Mimika Air      514   \n",
       "5265                         Air France      447   \n",
       "\n",
       "                                                  Route  \\\n",
       "208                 Aqua Caliente, Mexico - Los Angeles   \n",
       "236                Kansas City - Wichita -  Los Angeles   \n",
       "334                                  Omaha - St. Joseph   \n",
       "354   Los Angeles - Albuquerque - Kanasas City -  Wa...   \n",
       "365                                   Dallas -  Atlanta   \n",
       "...                                                 ...   \n",
       "5248                         Newark, N.J. - Buffalo, NY   \n",
       "5251          Istanbul, Turkey - Amsterdam, Netherlands   \n",
       "5255                    Guangzhou, China - Tokyo, Japan   \n",
       "5259                                      Ilaga - Mulia   \n",
       "5265                             Rio de Janeiro - Paris   \n",
       "\n",
       "                           Type Registration       cn/In  Aboard  Fatalities  \\\n",
       "208       Ford 5-AT-C Tri Motor       NC9689    5-AT-046    16.0        16.0   \n",
       "236        Fokker F10A Trimotor       NC-999        1063     8.0         8.0   \n",
       "334           Stinson  SM-6000B      NC10809        5004     5.0         5.0   \n",
       "354            Douglas DC-2-112      NC13785        1295    14.0         5.0   \n",
       "365             Stinson Model A      NC14599        9103     4.0         4.0   \n",
       "...                         ...          ...         ...     ...         ...   \n",
       "5248  Bombardier DHC-8-402 Q400       N200WQ        4200    49.0        49.0   \n",
       "5251             Boeing 737-8F2       TC-JGE  29789/1065   134.0         9.0   \n",
       "5255    McDonnell Douglas MD-11       N526FE   48600/560     2.0         2.0   \n",
       "5259               Pilatus PC-6       PK-LTJ         959    11.0        11.0   \n",
       "5265            Airbus A330-203       F-GZCP         660   228.0       228.0   \n",
       "\n",
       "      Ground                                            Summary  \\\n",
       "208      0.0  While en route to Los Angeles, the pilot, flyi...   \n",
       "236      0.0  Shortly after taking off from Kansas City, one...   \n",
       "334      0.0  The plane crashed about 11 miles from St. Jose...   \n",
       "354      0.0  The plane crashed while en route from Albuquer...   \n",
       "365      0.0  Crashed 3 miles south of Gilmer. The outboard ...   \n",
       "...      ...                                                ...   \n",
       "5248     1.0  The commuter plane crashed while attemptiong t...   \n",
       "5251     0.0  The plane was on final approach to Runway 18R ...   \n",
       "5255     0.0  The cargo plane crashed and burst into flame a...   \n",
       "5259     0.0  The passenger plane crashed in poor weather in...   \n",
       "5265     0.0  The Airbus went missing over the AtlantiOcean ...   \n",
       "\n",
       "                                          lower_summary  \n",
       "208   while en route to los angeles, the pilot, flyi...  \n",
       "236   shortly after taking off from kansas city, one...  \n",
       "334   the plane crashed about 11 miles from st. jose...  \n",
       "354   the plane crashed while en route from albuquer...  \n",
       "365   crashed 3 miles south of gilmer. the outboard ...  \n",
       "...                                                 ...  \n",
       "5248  the commuter plane crashed while attemptiong t...  \n",
       "5251  the plane was on final approach to runway 18r ...  \n",
       "5255  the cargo plane crashed and burst into flame a...  \n",
       "5259  the passenger plane crashed in poor weather in...  \n",
       "5265  the airbus went missing over the atlantiocean ...  \n",
       "\n",
       "[944 rows x 15 columns]"
      ]
     },
     "execution_count": 13,
     "metadata": {},
     "output_type": "execute_result"
    }
   ],
   "source": [
    "# since the number of NaN is relatively insignificant compared to the number of entries we can drop them\n",
    "airplane_df3.dropna()"
   ]
  },
  {
   "cell_type": "code",
   "execution_count": 70,
   "metadata": {},
   "outputs": [],
   "source": [
    "def one_word (df_list):\n",
    "    temp_list = df_list.copy()\n",
    "    for i in range (len(temp_list)):\n",
    "        if  \"thunder\" in str(temp_list[i]) or \"weather\" in str(temp_list[i]) or \"storm\" in str(temp_list[i]) or \"wind\" in str(temp_list[i]) or \"rain\" in str(temp_list[i]):\n",
    "            temp_list[i] = 'weather'\n",
    "        elif \"shot down\" in str(temp_list[i]):\n",
    "            temp_list[i] = 'shot down'\n",
    "        elif \"engine failure\" in str(temp_list[i]):\n",
    "            temp_list[i] = 'engine failure'\n",
    "        elif \"shut down\" in str(temp_list[i]) or \"shut-down\" in str(temp_list[i]):\n",
    "            temp_list[i] = 'shut down'\n",
    "        elif \"pilot error\" in str(temp_list[i]):\n",
    "            temp_list[i] = 'pilot error'\n",
    "        elif \"mechanical\" in str(temp_list[i]):\n",
    "            temp_list[i] ='mechanical'\n",
    "        elif \"exploded\" in str(temp_list[i]):\n",
    "            temp_list[i] ='exploded'\n",
    "        elif \"missing\" in str(temp_list[i]) or \"disappeared\" in str(temp_list[i]):\n",
    "            temp_list[i] ='missing'\n",
    "        elif \"collision\" in str(temp_list[i]):\n",
    "            temp_list[i] ='collision'\n",
    "        elif \"stalled\" in str(temp_list[i]):\n",
    "            temp_list[i] ='stalled'\n",
    "        elif \"striking\" in str(temp_list[i]):\n",
    "            temp_list[i] ='striking'\n",
    "        elif \"crashed\" in str(temp_list[i]):\n",
    "            temp_list[i] ='crashed'\n",
    "        else:\n",
    "            temp_list[i] ='others'\n",
    "        \n",
    "    return temp_list"
   ]
  },
  {
   "cell_type": "code",
   "execution_count": 71,
   "metadata": {},
   "outputs": [
    {
     "data": {
      "text/html": [
       "<div>\n",
       "<style scoped>\n",
       "    .dataframe tbody tr th:only-of-type {\n",
       "        vertical-align: middle;\n",
       "    }\n",
       "\n",
       "    .dataframe tbody tr th {\n",
       "        vertical-align: top;\n",
       "    }\n",
       "\n",
       "    .dataframe thead th {\n",
       "        text-align: right;\n",
       "    }\n",
       "</style>\n",
       "<table border=\"1\" class=\"dataframe\">\n",
       "  <thead>\n",
       "    <tr style=\"text-align: right;\">\n",
       "      <th></th>\n",
       "      <th>index</th>\n",
       "      <th>Date</th>\n",
       "      <th>Time</th>\n",
       "      <th>Location</th>\n",
       "      <th>Operator</th>\n",
       "      <th>Flight #</th>\n",
       "      <th>Route</th>\n",
       "      <th>Type</th>\n",
       "      <th>Registration</th>\n",
       "      <th>cn/In</th>\n",
       "      <th>Aboard</th>\n",
       "      <th>Fatalities</th>\n",
       "      <th>Ground</th>\n",
       "      <th>Summary</th>\n",
       "      <th>lower_summary</th>\n",
       "      <th>one_word_summary</th>\n",
       "    </tr>\n",
       "  </thead>\n",
       "  <tbody>\n",
       "    <tr>\n",
       "      <th>0</th>\n",
       "      <td>0</td>\n",
       "      <td>1908-09-17</td>\n",
       "      <td>17:18</td>\n",
       "      <td>Fort Myer, Virginia</td>\n",
       "      <td>Military - U.S. Army</td>\n",
       "      <td>NaN</td>\n",
       "      <td>Demonstration</td>\n",
       "      <td>Wright Flyer III</td>\n",
       "      <td>NaN</td>\n",
       "      <td>1</td>\n",
       "      <td>2.0</td>\n",
       "      <td>1.0</td>\n",
       "      <td>0.0</td>\n",
       "      <td>During a demonstration flight, a U.S. Army fly...</td>\n",
       "      <td>during a demonstration flight, a u.s. army fly...</td>\n",
       "      <td>others</td>\n",
       "    </tr>\n",
       "    <tr>\n",
       "      <th>1</th>\n",
       "      <td>1</td>\n",
       "      <td>1912-07-12</td>\n",
       "      <td>06:30</td>\n",
       "      <td>AtlantiCity, New Jersey</td>\n",
       "      <td>Military - U.S. Navy</td>\n",
       "      <td>NaN</td>\n",
       "      <td>Test flight</td>\n",
       "      <td>Dirigible</td>\n",
       "      <td>NaN</td>\n",
       "      <td>NaN</td>\n",
       "      <td>5.0</td>\n",
       "      <td>5.0</td>\n",
       "      <td>0.0</td>\n",
       "      <td>First U.S. dirigible Akron exploded just offsh...</td>\n",
       "      <td>first u.s. dirigible akron exploded just offsh...</td>\n",
       "      <td>exploded</td>\n",
       "    </tr>\n",
       "    <tr>\n",
       "      <th>2</th>\n",
       "      <td>2</td>\n",
       "      <td>1913-08-06</td>\n",
       "      <td>NaN</td>\n",
       "      <td>Victoria, British Columbia, Canada</td>\n",
       "      <td>Private</td>\n",
       "      <td>-</td>\n",
       "      <td>NaN</td>\n",
       "      <td>Curtiss seaplane</td>\n",
       "      <td>NaN</td>\n",
       "      <td>NaN</td>\n",
       "      <td>1.0</td>\n",
       "      <td>1.0</td>\n",
       "      <td>0.0</td>\n",
       "      <td>The first fatal airplane accident in Canada oc...</td>\n",
       "      <td>the first fatal airplane accident in canada oc...</td>\n",
       "      <td>weather</td>\n",
       "    </tr>\n",
       "    <tr>\n",
       "      <th>3</th>\n",
       "      <td>3</td>\n",
       "      <td>1913-09-09</td>\n",
       "      <td>18:30</td>\n",
       "      <td>Over the North Sea</td>\n",
       "      <td>Military - German Navy</td>\n",
       "      <td>NaN</td>\n",
       "      <td>NaN</td>\n",
       "      <td>Zeppelin L-1 (airship)</td>\n",
       "      <td>NaN</td>\n",
       "      <td>NaN</td>\n",
       "      <td>20.0</td>\n",
       "      <td>14.0</td>\n",
       "      <td>0.0</td>\n",
       "      <td>The airship flew into a thunderstorm and encou...</td>\n",
       "      <td>the airship flew into a thunderstorm and encou...</td>\n",
       "      <td>weather</td>\n",
       "    </tr>\n",
       "    <tr>\n",
       "      <th>4</th>\n",
       "      <td>4</td>\n",
       "      <td>1913-10-17</td>\n",
       "      <td>10:30</td>\n",
       "      <td>Near Johannisthal, Germany</td>\n",
       "      <td>Military - German Navy</td>\n",
       "      <td>NaN</td>\n",
       "      <td>NaN</td>\n",
       "      <td>Zeppelin L-2 (airship)</td>\n",
       "      <td>NaN</td>\n",
       "      <td>NaN</td>\n",
       "      <td>30.0</td>\n",
       "      <td>30.0</td>\n",
       "      <td>0.0</td>\n",
       "      <td>Hydrogen gas which was being vented was sucked...</td>\n",
       "      <td>hydrogen gas which was being vented was sucked...</td>\n",
       "      <td>others</td>\n",
       "    </tr>\n",
       "  </tbody>\n",
       "</table>\n",
       "</div>"
      ],
      "text/plain": [
       "   index       Date   Time                            Location  \\\n",
       "0      0 1908-09-17  17:18                 Fort Myer, Virginia   \n",
       "1      1 1912-07-12  06:30             AtlantiCity, New Jersey   \n",
       "2      2 1913-08-06    NaN  Victoria, British Columbia, Canada   \n",
       "3      3 1913-09-09  18:30                  Over the North Sea   \n",
       "4      4 1913-10-17  10:30          Near Johannisthal, Germany   \n",
       "\n",
       "                 Operator Flight #          Route                    Type  \\\n",
       "0    Military - U.S. Army      NaN  Demonstration        Wright Flyer III   \n",
       "1    Military - U.S. Navy      NaN    Test flight               Dirigible   \n",
       "2                 Private        -            NaN        Curtiss seaplane   \n",
       "3  Military - German Navy      NaN            NaN  Zeppelin L-1 (airship)   \n",
       "4  Military - German Navy      NaN            NaN  Zeppelin L-2 (airship)   \n",
       "\n",
       "  Registration cn/In  Aboard  Fatalities  Ground  \\\n",
       "0          NaN     1     2.0         1.0     0.0   \n",
       "1          NaN   NaN     5.0         5.0     0.0   \n",
       "2          NaN   NaN     1.0         1.0     0.0   \n",
       "3          NaN   NaN    20.0        14.0     0.0   \n",
       "4          NaN   NaN    30.0        30.0     0.0   \n",
       "\n",
       "                                             Summary  \\\n",
       "0  During a demonstration flight, a U.S. Army fly...   \n",
       "1  First U.S. dirigible Akron exploded just offsh...   \n",
       "2  The first fatal airplane accident in Canada oc...   \n",
       "3  The airship flew into a thunderstorm and encou...   \n",
       "4  Hydrogen gas which was being vented was sucked...   \n",
       "\n",
       "                                       lower_summary one_word_summary  \n",
       "0  during a demonstration flight, a u.s. army fly...           others  \n",
       "1  first u.s. dirigible akron exploded just offsh...         exploded  \n",
       "2  the first fatal airplane accident in canada oc...          weather  \n",
       "3  the airship flew into a thunderstorm and encou...          weather  \n",
       "4  hydrogen gas which was being vented was sucked...           others  "
      ]
     },
     "execution_count": 71,
     "metadata": {},
     "output_type": "execute_result"
    }
   ],
   "source": [
    "one_word_summary =one_word(airplane_df3['lower_summary'])\n",
    "airplane_df3['one_word_summary'] = one_word_summary\n",
    "airplane_df3.head()\n",
    "#(airplane_df3['lower_summary']).iloc[1].replace(str([airplane_df3['lower_summary'].iloc[1]]),'exploded')"
   ]
  },
  {
   "cell_type": "code",
   "execution_count": 72,
   "metadata": {},
   "outputs": [
    {
     "data": {
      "text/plain": [
       "crashed           1878\n",
       "others            1325\n",
       "weather           1276\n",
       "engine failure     151\n",
       "stalled            137\n",
       "shot down          129\n",
       "collision          101\n",
       "missing             96\n",
       "exploded            69\n",
       "pilot error         51\n",
       "striking            24\n",
       "shut down           16\n",
       "mechanical          15\n",
       "Name: one_word_summary, dtype: int64"
      ]
     },
     "execution_count": 72,
     "metadata": {},
     "output_type": "execute_result"
    }
   ],
   "source": [
    "airplane_df3['one_word_summary'].value_counts()"
   ]
  },
  {
   "cell_type": "code",
   "execution_count": 74,
   "metadata": {},
   "outputs": [
    {
     "data": {
      "text/plain": [
       "Text(0.5, 0, 'Crashes')"
      ]
     },
     "execution_count": 74,
     "metadata": {},
     "output_type": "execute_result"
    },
    {
     "data": {
      "image/png": "[encoded data removed]",
      "text/plain": [
       "<Figure size 640x480 with 1 Axes>"
      ]
     },
     "metadata": {},
     "output_type": "display_data"
    }
   ],
   "source": [
    "causes = airplane_df3.groupby(['one_word_summary']).count().sort_values('index')\n",
    "x=np.array(causes.index)\n",
    "y=np.array(causes['index'])\n",
    "plt.barh(x[:20],y[:20])\n",
    "plt.xlabel('Crashes')"
   ]
  },
  {
   "cell_type": "markdown",
   "metadata": {},
   "source": [
    "# Research Question\n",
    "Come up with one (1) research question to answer using the dataset. Here are some\n",
    "requirements:\n",
    "\n",
    "* The research question should arise from the exploratory data analysis. There should be an explanation regarding the connection of the research question to the answers obtained from performing exploratory data analysis.\n",
    "* The research question should be within the scope of the dataset.\n",
    "* The research question should be answerable by either performing data mining techniques or any domain-specific data modelling technique (i.e., techniques in modelling text, timeseries, graph, or image data) taught in class.\n",
    "* Make sure to indicate the importance and significance of the research question"
   ]
  },
  {
   "cell_type": "code",
   "execution_count": null,
   "metadata": {},
   "outputs": [],
   "source": []
  }
 ],
 "metadata": {
  "kernelspec": {
   "display_name": "Python 3 (ipykernel)",
   "language": "python",
   "name": "python3"
  },
  "language_info": {
   "codemirror_mode": {
    "name": "ipython",
    "version": 3
   },
   "file_extension": ".py",
   "mimetype": "text/x-python",
   "name": "python",
   "nbconvert_exporter": "python",
   "pygments_lexer": "ipython3",
   "version": "3.9.12"
  },
  "vscode": {
   "interpreter": {
    "hash": "4836aab9230707cf36e93c729ff9a67bdbebd51947e18404ed5a25d63daeec60"
   }
  }
 },
 "nbformat": 4,
 "nbformat_minor": 4
}
